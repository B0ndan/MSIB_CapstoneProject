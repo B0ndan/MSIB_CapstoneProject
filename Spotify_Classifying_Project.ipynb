{
 "cells": [
  {
   "cell_type": "markdown",
   "metadata": {
    "id": "w9SdqnJ-9vlO"
   },
   "source": [
    "# ITS02_Assigment Tugas Akhir 4_Kelompok 6"
   ]
  },
  {
   "cell_type": "markdown",
   "metadata": {},
   "source": [
    "Salah satu masalah yang sering dialami oleh pengguna aplikasi Spotify adalah dimana musik yang ingin didengar oleh pengguna dijalankan secara acak atau telah diatur dalam daftar putar yang dikuratori oleh Spotify (baik berdasarkan bahasa maupun penyanyi) sehingga pengguna perlu memilih sendiri musik mana yang ingin didengar sesuai dengan mood pendengarnya. Oleh karena itu, proyek ini disusun dalam rangka memudahkan pengguna aplikasi Spotify untuk mengklasifikasikan musik dan mengurutkannya sesuai dengan mood. Algoritma ini akan menyortir musik dari Spotify dalam playlist pertama (musik bahagia, optimis, dan energik) atau playlist kedua (lambat, menenangkan, dan tenang) sesuai dengan atribut musik yang digunakan. Algoritma yang ingin kami buat adalah dengan mengklasifikasikan dari kedua playlist yang dipilih yang berisi beberapa lagu, dengan algoritma yang kami buat akan menghasilkan atau menunjukkan bahwa ada beberapa lagu di kedua playlist yang memiliki atribut musik yang sama. Playlists akan diklasifikasikan berdasarkan kualitas yang sama dan terdekat. Pengklasifikasian dilakukan menggunakan KNN algorithm. Data yang digunakan adalah data Spotify (Spotify merupakan sebuah layanan streaming musik dan podcast yang berbasis di Swedia) yang terdiri dari 199 lagu. Terdapat beberapa variabel, yaitu artist, track, danceability, energy, key, loudness, mode, speechiness, acousticness, instrumentalness, liveness, valence, tempo, type, id, uri, track_href, analysis_url, duration_ms, dan time signature."
   ]
  },
  {
   "cell_type": "markdown",
   "metadata": {
    "id": "JeIr9_DEDu3x"
   },
   "source": [
    "## Akses Untuk Scrapping Data dari Spotify dengan Credential\n",
    "* Mengambil data langsung"
   ]
  },
  {
   "cell_type": "code",
   "execution_count": 1,
   "metadata": {
    "colab": {
     "base_uri": "https://localhost:8080/"
    },
    "id": "kcaxNdaB9yj4",
    "outputId": "89729bcc-1b20-442f-a65e-da1de9c046ae"
   },
   "outputs": [
    {
     "name": "stdout",
     "output_type": "stream",
     "text": [
      "Collecting spotipy"
     ]
    },
    {
     "name": "stderr",
     "output_type": "stream",
     "text": [
      "WARNING: You are using pip version 21.0.1; however, version 21.3.1 is available.\n",
      "You should consider upgrading via the 'c:\\users\\bonda\\appdata\\local\\programs\\python\\python39\\python.exe -m pip install --upgrade pip' command.\n"
     ]
    },
    {
     "name": "stdout",
     "output_type": "stream",
     "text": [
      "\n",
      "  Downloading spotipy-2.19.0-py3-none-any.whl (27 kB)\n",
      "Requirement already satisfied: urllib3>=1.26.0 in c:\\users\\bonda\\appdata\\local\\programs\\python\\python39\\lib\\site-packages (from spotipy) (1.26.7)\n",
      "Requirement already satisfied: six>=1.15.0 in c:\\users\\bonda\\appdata\\local\\programs\\python\\python39\\lib\\site-packages (from spotipy) (1.15.0)\n",
      "Requirement already satisfied: requests>=2.25.0 in c:\\users\\bonda\\appdata\\local\\programs\\python\\python39\\lib\\site-packages (from spotipy) (2.26.0)\n",
      "Requirement already satisfied: charset-normalizer~=2.0.0 in c:\\users\\bonda\\appdata\\local\\programs\\python\\python39\\lib\\site-packages (from requests>=2.25.0->spotipy) (2.0.9)\n",
      "Requirement already satisfied: idna<4,>=2.5 in c:\\users\\bonda\\appdata\\local\\programs\\python\\python39\\lib\\site-packages (from requests>=2.25.0->spotipy) (3.3)\n",
      "Requirement already satisfied: certifi>=2017.4.17 in c:\\users\\bonda\\appdata\\local\\programs\\python\\python39\\lib\\site-packages (from requests>=2.25.0->spotipy) (2021.10.8)\n",
      "Installing collected packages: spotipy\n",
      "Successfully installed spotipy-2.19.0\n"
     ]
    }
   ],
   "source": [
    "!pip install spotipy"
   ]
  },
  {
   "cell_type": "code",
   "execution_count": 1,
   "metadata": {
    "id": "5MlOI0w196-8"
   },
   "outputs": [],
   "source": [
    "from sklearn.neighbors import NearestNeighbors\n",
    "import pandas as pd\n",
    "import plotly.express as px\n",
    "import matplotlib.pyplot as plt\n",
    "get_ipython().run_line_magic('matplotlib', 'inline')\n",
    "import numpy as np\n",
    "import seaborn as sns\n",
    "import spotipy\n",
    "from spotipy.oauth2 import SpotifyClientCredentials"
   ]
  },
  {
   "cell_type": "code",
   "execution_count": 2,
   "metadata": {
    "id": "nG94RPZ897CX"
   },
   "outputs": [],
   "source": [
    "client_id = 'a6430793e3da43b9a8cbf7a048d99530'\n",
    "client_secret = '8d02582819c5468fac71b916bc5906f3'\n",
    "client_credentials_manager = SpotifyClientCredentials(client_id, client_secret)"
   ]
  },
  {
   "cell_type": "code",
   "execution_count": 3,
   "metadata": {
    "id": "7lLFxGZn97H-"
   },
   "outputs": [],
   "source": [
    "sp = spotipy.Spotify(client_credentials_manager = client_credentials_manager)"
   ]
  },
  {
   "cell_type": "markdown",
   "metadata": {
    "id": "uYScz2mlF9rR"
   },
   "source": [
    "### Playlist 1\n",
    "* First Playlist That We want to make class"
   ]
  },
  {
   "cell_type": "code",
   "execution_count": 4,
   "metadata": {
    "colab": {
     "base_uri": "https://localhost:8080/",
     "height": 226
    },
    "id": "G-xUQ_nz97OF",
    "outputId": "4225050f-a764-4d78-d8d7-8f2c48f80600"
   },
   "outputs": [
    {
     "data": {
      "text/html": [
       "<div>\n",
       "<style scoped>\n",
       "    .dataframe tbody tr th:only-of-type {\n",
       "        vertical-align: middle;\n",
       "    }\n",
       "\n",
       "    .dataframe tbody tr th {\n",
       "        vertical-align: top;\n",
       "    }\n",
       "\n",
       "    .dataframe thead th {\n",
       "        text-align: right;\n",
       "    }\n",
       "</style>\n",
       "<table border=\"1\" class=\"dataframe\">\n",
       "  <thead>\n",
       "    <tr style=\"text-align: right;\">\n",
       "      <th></th>\n",
       "      <th>artist</th>\n",
       "      <th>track</th>\n",
       "      <th>danceability</th>\n",
       "      <th>energy</th>\n",
       "      <th>key</th>\n",
       "      <th>loudness</th>\n",
       "      <th>mode</th>\n",
       "      <th>speechiness</th>\n",
       "      <th>acousticness</th>\n",
       "      <th>instrumentalness</th>\n",
       "      <th>liveness</th>\n",
       "      <th>valence</th>\n",
       "      <th>tempo</th>\n",
       "      <th>type</th>\n",
       "      <th>id</th>\n",
       "      <th>uri</th>\n",
       "      <th>track_href</th>\n",
       "      <th>analysis_url</th>\n",
       "      <th>duration_ms</th>\n",
       "      <th>time_signature</th>\n",
       "    </tr>\n",
       "  </thead>\n",
       "  <tbody>\n",
       "    <tr>\n",
       "      <th>0</th>\n",
       "      <td>NaN</td>\n",
       "      <td>NaN</td>\n",
       "      <td>NaN</td>\n",
       "      <td>NaN</td>\n",
       "      <td>NaN</td>\n",
       "      <td>NaN</td>\n",
       "      <td>NaN</td>\n",
       "      <td>NaN</td>\n",
       "      <td>NaN</td>\n",
       "      <td>NaN</td>\n",
       "      <td>NaN</td>\n",
       "      <td>NaN</td>\n",
       "      <td>NaN</td>\n",
       "      <td>NaN</td>\n",
       "      <td>NaN</td>\n",
       "      <td>NaN</td>\n",
       "      <td>NaN</td>\n",
       "      <td>NaN</td>\n",
       "      <td>NaN</td>\n",
       "      <td>NaN</td>\n",
       "    </tr>\n",
       "    <tr>\n",
       "      <th>1</th>\n",
       "      <td>NaN</td>\n",
       "      <td>NaN</td>\n",
       "      <td>NaN</td>\n",
       "      <td>NaN</td>\n",
       "      <td>NaN</td>\n",
       "      <td>NaN</td>\n",
       "      <td>NaN</td>\n",
       "      <td>NaN</td>\n",
       "      <td>NaN</td>\n",
       "      <td>NaN</td>\n",
       "      <td>NaN</td>\n",
       "      <td>NaN</td>\n",
       "      <td>NaN</td>\n",
       "      <td>NaN</td>\n",
       "      <td>NaN</td>\n",
       "      <td>NaN</td>\n",
       "      <td>NaN</td>\n",
       "      <td>NaN</td>\n",
       "      <td>NaN</td>\n",
       "      <td>NaN</td>\n",
       "    </tr>\n",
       "    <tr>\n",
       "      <th>2</th>\n",
       "      <td>NaN</td>\n",
       "      <td>NaN</td>\n",
       "      <td>NaN</td>\n",
       "      <td>NaN</td>\n",
       "      <td>NaN</td>\n",
       "      <td>NaN</td>\n",
       "      <td>NaN</td>\n",
       "      <td>NaN</td>\n",
       "      <td>NaN</td>\n",
       "      <td>NaN</td>\n",
       "      <td>NaN</td>\n",
       "      <td>NaN</td>\n",
       "      <td>NaN</td>\n",
       "      <td>NaN</td>\n",
       "      <td>NaN</td>\n",
       "      <td>NaN</td>\n",
       "      <td>NaN</td>\n",
       "      <td>NaN</td>\n",
       "      <td>NaN</td>\n",
       "      <td>NaN</td>\n",
       "    </tr>\n",
       "    <tr>\n",
       "      <th>3</th>\n",
       "      <td>NaN</td>\n",
       "      <td>NaN</td>\n",
       "      <td>NaN</td>\n",
       "      <td>NaN</td>\n",
       "      <td>NaN</td>\n",
       "      <td>NaN</td>\n",
       "      <td>NaN</td>\n",
       "      <td>NaN</td>\n",
       "      <td>NaN</td>\n",
       "      <td>NaN</td>\n",
       "      <td>NaN</td>\n",
       "      <td>NaN</td>\n",
       "      <td>NaN</td>\n",
       "      <td>NaN</td>\n",
       "      <td>NaN</td>\n",
       "      <td>NaN</td>\n",
       "      <td>NaN</td>\n",
       "      <td>NaN</td>\n",
       "      <td>NaN</td>\n",
       "      <td>NaN</td>\n",
       "    </tr>\n",
       "    <tr>\n",
       "      <th>4</th>\n",
       "      <td>NaN</td>\n",
       "      <td>NaN</td>\n",
       "      <td>NaN</td>\n",
       "      <td>NaN</td>\n",
       "      <td>NaN</td>\n",
       "      <td>NaN</td>\n",
       "      <td>NaN</td>\n",
       "      <td>NaN</td>\n",
       "      <td>NaN</td>\n",
       "      <td>NaN</td>\n",
       "      <td>NaN</td>\n",
       "      <td>NaN</td>\n",
       "      <td>NaN</td>\n",
       "      <td>NaN</td>\n",
       "      <td>NaN</td>\n",
       "      <td>NaN</td>\n",
       "      <td>NaN</td>\n",
       "      <td>NaN</td>\n",
       "      <td>NaN</td>\n",
       "      <td>NaN</td>\n",
       "    </tr>\n",
       "  </tbody>\n",
       "</table>\n",
       "</div>"
      ],
      "text/plain": [
       "  artist track danceability energy  key loudness mode speechiness  \\\n",
       "0    NaN   NaN          NaN    NaN  NaN      NaN  NaN         NaN   \n",
       "1    NaN   NaN          NaN    NaN  NaN      NaN  NaN         NaN   \n",
       "2    NaN   NaN          NaN    NaN  NaN      NaN  NaN         NaN   \n",
       "3    NaN   NaN          NaN    NaN  NaN      NaN  NaN         NaN   \n",
       "4    NaN   NaN          NaN    NaN  NaN      NaN  NaN         NaN   \n",
       "\n",
       "  acousticness instrumentalness liveness valence tempo type   id  uri  \\\n",
       "0          NaN              NaN      NaN     NaN   NaN  NaN  NaN  NaN   \n",
       "1          NaN              NaN      NaN     NaN   NaN  NaN  NaN  NaN   \n",
       "2          NaN              NaN      NaN     NaN   NaN  NaN  NaN  NaN   \n",
       "3          NaN              NaN      NaN     NaN   NaN  NaN  NaN  NaN   \n",
       "4          NaN              NaN      NaN     NaN   NaN  NaN  NaN  NaN   \n",
       "\n",
       "  track_href analysis_url duration_ms time_signature  \n",
       "0        NaN          NaN         NaN            NaN  \n",
       "1        NaN          NaN         NaN            NaN  \n",
       "2        NaN          NaN         NaN            NaN  \n",
       "3        NaN          NaN         NaN            NaN  \n",
       "4        NaN          NaN         NaN            NaN  "
      ]
     },
     "execution_count": 4,
     "metadata": {},
     "output_type": "execute_result"
    }
   ],
   "source": [
    "# download playlists and convert into csv\n",
    "id_test = sp.user_playlist_tracks('The Best Vibes 💖', 'https://open.spotify.com/playlist/7s09coXLGbofhNrwSusr4G?si=PxiHm8HWT7iJiLWiJ0chEA&utm_source=copy-link')['items'][0]['track']['id']\n",
    "columns = ['artist', 'track']\n",
    "list(map(lambda x: columns.append(x), list(sp.audio_features(id_test)[0].keys())))\n",
    "\n",
    "playlist_tracks = pd.DataFrame(columns = columns, index = range(0, 200))\n",
    "playlist_tracks.head()"
   ]
  },
  {
   "cell_type": "code",
   "execution_count": 5,
   "metadata": {
    "colab": {
     "base_uri": "https://localhost:8080/",
     "height": 669
    },
    "id": "z3p0MecJBkbe",
    "outputId": "65731093-648d-4167-83e1-a907fe869267"
   },
   "outputs": [
    {
     "data": {
      "text/html": [
       "<div>\n",
       "<style scoped>\n",
       "    .dataframe tbody tr th:only-of-type {\n",
       "        vertical-align: middle;\n",
       "    }\n",
       "\n",
       "    .dataframe tbody tr th {\n",
       "        vertical-align: top;\n",
       "    }\n",
       "\n",
       "    .dataframe thead th {\n",
       "        text-align: right;\n",
       "    }\n",
       "</style>\n",
       "<table border=\"1\" class=\"dataframe\">\n",
       "  <thead>\n",
       "    <tr style=\"text-align: right;\">\n",
       "      <th></th>\n",
       "      <th>artist</th>\n",
       "      <th>track</th>\n",
       "      <th>danceability</th>\n",
       "      <th>energy</th>\n",
       "      <th>key</th>\n",
       "      <th>loudness</th>\n",
       "      <th>mode</th>\n",
       "      <th>speechiness</th>\n",
       "      <th>acousticness</th>\n",
       "      <th>instrumentalness</th>\n",
       "      <th>liveness</th>\n",
       "      <th>valence</th>\n",
       "      <th>tempo</th>\n",
       "      <th>type</th>\n",
       "      <th>id</th>\n",
       "      <th>uri</th>\n",
       "      <th>track_href</th>\n",
       "      <th>analysis_url</th>\n",
       "      <th>duration_ms</th>\n",
       "      <th>time_signature</th>\n",
       "    </tr>\n",
       "  </thead>\n",
       "  <tbody>\n",
       "    <tr>\n",
       "      <th>0</th>\n",
       "      <td>MKTO</td>\n",
       "      <td>Classic</td>\n",
       "      <td>0.72</td>\n",
       "      <td>0.791</td>\n",
       "      <td>1</td>\n",
       "      <td>-4.689</td>\n",
       "      <td>1</td>\n",
       "      <td>0.124</td>\n",
       "      <td>0.0384</td>\n",
       "      <td>0</td>\n",
       "      <td>0.157</td>\n",
       "      <td>0.756</td>\n",
       "      <td>102.071</td>\n",
       "      <td>audio_features</td>\n",
       "      <td>6FE2iI43OZnszFLuLtvvmg</td>\n",
       "      <td>spotify:track:6FE2iI43OZnszFLuLtvvmg</td>\n",
       "      <td>https://api.spotify.com/v1/tracks/6FE2iI43OZns...</td>\n",
       "      <td>https://api.spotify.com/v1/audio-analysis/6FE2...</td>\n",
       "      <td>175427</td>\n",
       "      <td>4</td>\n",
       "    </tr>\n",
       "    <tr>\n",
       "      <th>1</th>\n",
       "      <td>Dua Lipa</td>\n",
       "      <td>Levitating (feat. DaBaby)</td>\n",
       "      <td>0.702</td>\n",
       "      <td>0.825</td>\n",
       "      <td>6</td>\n",
       "      <td>-3.787</td>\n",
       "      <td>0</td>\n",
       "      <td>0.0601</td>\n",
       "      <td>0.00883</td>\n",
       "      <td>0</td>\n",
       "      <td>0.0674</td>\n",
       "      <td>0.915</td>\n",
       "      <td>102.977</td>\n",
       "      <td>audio_features</td>\n",
       "      <td>5nujrmhLynf4yMoMtj8AQF</td>\n",
       "      <td>spotify:track:5nujrmhLynf4yMoMtj8AQF</td>\n",
       "      <td>https://api.spotify.com/v1/tracks/5nujrmhLynf4...</td>\n",
       "      <td>https://api.spotify.com/v1/audio-analysis/5nuj...</td>\n",
       "      <td>203064</td>\n",
       "      <td>4</td>\n",
       "    </tr>\n",
       "    <tr>\n",
       "      <th>2</th>\n",
       "      <td>Outkast</td>\n",
       "      <td>Hey Ya!</td>\n",
       "      <td>0.715</td>\n",
       "      <td>0.97</td>\n",
       "      <td>0</td>\n",
       "      <td>-2.206</td>\n",
       "      <td>1</td>\n",
       "      <td>0.0648</td>\n",
       "      <td>0.0644</td>\n",
       "      <td>0.000156</td>\n",
       "      <td>0.205</td>\n",
       "      <td>0.963</td>\n",
       "      <td>79.504</td>\n",
       "      <td>audio_features</td>\n",
       "      <td>3AszgPDZd9q0DpDFt4HFBy</td>\n",
       "      <td>spotify:track:3AszgPDZd9q0DpDFt4HFBy</td>\n",
       "      <td>https://api.spotify.com/v1/tracks/3AszgPDZd9q0...</td>\n",
       "      <td>https://api.spotify.com/v1/audio-analysis/3Asz...</td>\n",
       "      <td>239240</td>\n",
       "      <td>4</td>\n",
       "    </tr>\n",
       "    <tr>\n",
       "      <th>3</th>\n",
       "      <td>Harry Styles</td>\n",
       "      <td>Watermelon Sugar</td>\n",
       "      <td>0.548</td>\n",
       "      <td>0.816</td>\n",
       "      <td>0</td>\n",
       "      <td>-4.209</td>\n",
       "      <td>1</td>\n",
       "      <td>0.0465</td>\n",
       "      <td>0.122</td>\n",
       "      <td>0</td>\n",
       "      <td>0.335</td>\n",
       "      <td>0.557</td>\n",
       "      <td>95.39</td>\n",
       "      <td>audio_features</td>\n",
       "      <td>6UelLqGlWMcVH1E5c4H7lY</td>\n",
       "      <td>spotify:track:6UelLqGlWMcVH1E5c4H7lY</td>\n",
       "      <td>https://api.spotify.com/v1/tracks/6UelLqGlWMcV...</td>\n",
       "      <td>https://api.spotify.com/v1/audio-analysis/6Uel...</td>\n",
       "      <td>174000</td>\n",
       "      <td>4</td>\n",
       "    </tr>\n",
       "    <tr>\n",
       "      <th>4</th>\n",
       "      <td>Farruko</td>\n",
       "      <td>Pepas</td>\n",
       "      <td>0.762</td>\n",
       "      <td>0.766</td>\n",
       "      <td>7</td>\n",
       "      <td>-3.955</td>\n",
       "      <td>1</td>\n",
       "      <td>0.0343</td>\n",
       "      <td>0.00776</td>\n",
       "      <td>0.00007</td>\n",
       "      <td>0.128</td>\n",
       "      <td>0.442</td>\n",
       "      <td>130.001</td>\n",
       "      <td>audio_features</td>\n",
       "      <td>2B4GHvToeLTOBB4QLzW3Ni</td>\n",
       "      <td>spotify:track:2B4GHvToeLTOBB4QLzW3Ni</td>\n",
       "      <td>https://api.spotify.com/v1/tracks/2B4GHvToeLTO...</td>\n",
       "      <td>https://api.spotify.com/v1/audio-analysis/2B4G...</td>\n",
       "      <td>287120</td>\n",
       "      <td>4</td>\n",
       "    </tr>\n",
       "    <tr>\n",
       "      <th>...</th>\n",
       "      <td>...</td>\n",
       "      <td>...</td>\n",
       "      <td>...</td>\n",
       "      <td>...</td>\n",
       "      <td>...</td>\n",
       "      <td>...</td>\n",
       "      <td>...</td>\n",
       "      <td>...</td>\n",
       "      <td>...</td>\n",
       "      <td>...</td>\n",
       "      <td>...</td>\n",
       "      <td>...</td>\n",
       "      <td>...</td>\n",
       "      <td>...</td>\n",
       "      <td>...</td>\n",
       "      <td>...</td>\n",
       "      <td>...</td>\n",
       "      <td>...</td>\n",
       "      <td>...</td>\n",
       "      <td>...</td>\n",
       "    </tr>\n",
       "    <tr>\n",
       "      <th>195</th>\n",
       "      <td>Portugal. The Man</td>\n",
       "      <td>Feel It Still</td>\n",
       "      <td>0.801</td>\n",
       "      <td>0.795</td>\n",
       "      <td>1</td>\n",
       "      <td>-5.115</td>\n",
       "      <td>0</td>\n",
       "      <td>0.0504</td>\n",
       "      <td>0.0417</td>\n",
       "      <td>0.000113</td>\n",
       "      <td>0.0717</td>\n",
       "      <td>0.754</td>\n",
       "      <td>79.028</td>\n",
       "      <td>audio_features</td>\n",
       "      <td>6QgjcU0zLnzq5OrUoSZ3OK</td>\n",
       "      <td>spotify:track:6QgjcU0zLnzq5OrUoSZ3OK</td>\n",
       "      <td>https://api.spotify.com/v1/tracks/6QgjcU0zLnzq...</td>\n",
       "      <td>https://api.spotify.com/v1/audio-analysis/6Qgj...</td>\n",
       "      <td>163253</td>\n",
       "      <td>4</td>\n",
       "    </tr>\n",
       "    <tr>\n",
       "      <th>196</th>\n",
       "      <td>Gorillaz</td>\n",
       "      <td>Feel Good Inc.</td>\n",
       "      <td>0.818</td>\n",
       "      <td>0.705</td>\n",
       "      <td>6</td>\n",
       "      <td>-6.679</td>\n",
       "      <td>1</td>\n",
       "      <td>0.177</td>\n",
       "      <td>0.00836</td>\n",
       "      <td>0.00233</td>\n",
       "      <td>0.613</td>\n",
       "      <td>0.772</td>\n",
       "      <td>138.559</td>\n",
       "      <td>audio_features</td>\n",
       "      <td>0d28khcov6AiegSCpG5TuT</td>\n",
       "      <td>spotify:track:0d28khcov6AiegSCpG5TuT</td>\n",
       "      <td>https://api.spotify.com/v1/tracks/0d28khcov6Ai...</td>\n",
       "      <td>https://api.spotify.com/v1/audio-analysis/0d28...</td>\n",
       "      <td>222640</td>\n",
       "      <td>4</td>\n",
       "    </tr>\n",
       "    <tr>\n",
       "      <th>197</th>\n",
       "      <td>Lennon Stella</td>\n",
       "      <td>Summer Feelings (feat. Charlie Puth) - From 'S...</td>\n",
       "      <td>0.696</td>\n",
       "      <td>0.686</td>\n",
       "      <td>5</td>\n",
       "      <td>-6.113</td>\n",
       "      <td>0</td>\n",
       "      <td>0.0309</td>\n",
       "      <td>0.262</td>\n",
       "      <td>0</td>\n",
       "      <td>0.174</td>\n",
       "      <td>0.7</td>\n",
       "      <td>115.982</td>\n",
       "      <td>audio_features</td>\n",
       "      <td>49dFIRQCQxPWgoH0m38XQ5</td>\n",
       "      <td>spotify:track:49dFIRQCQxPWgoH0m38XQ5</td>\n",
       "      <td>https://api.spotify.com/v1/tracks/49dFIRQCQxPW...</td>\n",
       "      <td>https://api.spotify.com/v1/audio-analysis/49dF...</td>\n",
       "      <td>160289</td>\n",
       "      <td>4</td>\n",
       "    </tr>\n",
       "    <tr>\n",
       "      <th>198</th>\n",
       "      <td>Cash Cash</td>\n",
       "      <td>I Found You</td>\n",
       "      <td>0.646</td>\n",
       "      <td>0.761</td>\n",
       "      <td>1</td>\n",
       "      <td>-2.557</td>\n",
       "      <td>1</td>\n",
       "      <td>0.0385</td>\n",
       "      <td>0.0714</td>\n",
       "      <td>0</td>\n",
       "      <td>0.222</td>\n",
       "      <td>0.472</td>\n",
       "      <td>129.916</td>\n",
       "      <td>audio_features</td>\n",
       "      <td>3wYOGJYD31sLRmBgCvWxa4</td>\n",
       "      <td>spotify:track:3wYOGJYD31sLRmBgCvWxa4</td>\n",
       "      <td>https://api.spotify.com/v1/tracks/3wYOGJYD31sL...</td>\n",
       "      <td>https://api.spotify.com/v1/audio-analysis/3wYO...</td>\n",
       "      <td>167308</td>\n",
       "      <td>4</td>\n",
       "    </tr>\n",
       "    <tr>\n",
       "      <th>199</th>\n",
       "      <td>HRVY</td>\n",
       "      <td>Good Vibes</td>\n",
       "      <td>0.558</td>\n",
       "      <td>0.877</td>\n",
       "      <td>10</td>\n",
       "      <td>-3.392</td>\n",
       "      <td>1</td>\n",
       "      <td>0.145</td>\n",
       "      <td>0.274</td>\n",
       "      <td>0</td>\n",
       "      <td>0.162</td>\n",
       "      <td>0.762</td>\n",
       "      <td>99.988</td>\n",
       "      <td>audio_features</td>\n",
       "      <td>53kWAAfx7IopXRa31MQHB8</td>\n",
       "      <td>spotify:track:53kWAAfx7IopXRa31MQHB8</td>\n",
       "      <td>https://api.spotify.com/v1/tracks/53kWAAfx7Iop...</td>\n",
       "      <td>https://api.spotify.com/v1/audio-analysis/53kW...</td>\n",
       "      <td>170280</td>\n",
       "      <td>4</td>\n",
       "    </tr>\n",
       "  </tbody>\n",
       "</table>\n",
       "<p>200 rows × 20 columns</p>\n",
       "</div>"
      ],
      "text/plain": [
       "                artist                                              track  \\\n",
       "0                 MKTO                                            Classic   \n",
       "1             Dua Lipa                          Levitating (feat. DaBaby)   \n",
       "2              Outkast                                            Hey Ya!   \n",
       "3         Harry Styles                                   Watermelon Sugar   \n",
       "4              Farruko                                              Pepas   \n",
       "..                 ...                                                ...   \n",
       "195  Portugal. The Man                                      Feel It Still   \n",
       "196           Gorillaz                                     Feel Good Inc.   \n",
       "197      Lennon Stella  Summer Feelings (feat. Charlie Puth) - From 'S...   \n",
       "198          Cash Cash                                        I Found You   \n",
       "199               HRVY                                         Good Vibes   \n",
       "\n",
       "    danceability energy key loudness mode speechiness acousticness  \\\n",
       "0           0.72  0.791   1   -4.689    1       0.124       0.0384   \n",
       "1          0.702  0.825   6   -3.787    0      0.0601      0.00883   \n",
       "2          0.715   0.97   0   -2.206    1      0.0648       0.0644   \n",
       "3          0.548  0.816   0   -4.209    1      0.0465        0.122   \n",
       "4          0.762  0.766   7   -3.955    1      0.0343      0.00776   \n",
       "..           ...    ...  ..      ...  ...         ...          ...   \n",
       "195        0.801  0.795   1   -5.115    0      0.0504       0.0417   \n",
       "196        0.818  0.705   6   -6.679    1       0.177      0.00836   \n",
       "197        0.696  0.686   5   -6.113    0      0.0309        0.262   \n",
       "198        0.646  0.761   1   -2.557    1      0.0385       0.0714   \n",
       "199        0.558  0.877  10   -3.392    1       0.145        0.274   \n",
       "\n",
       "    instrumentalness liveness valence    tempo            type  \\\n",
       "0                  0    0.157   0.756  102.071  audio_features   \n",
       "1                  0   0.0674   0.915  102.977  audio_features   \n",
       "2           0.000156    0.205   0.963   79.504  audio_features   \n",
       "3                  0    0.335   0.557    95.39  audio_features   \n",
       "4            0.00007    0.128   0.442  130.001  audio_features   \n",
       "..               ...      ...     ...      ...             ...   \n",
       "195         0.000113   0.0717   0.754   79.028  audio_features   \n",
       "196          0.00233    0.613   0.772  138.559  audio_features   \n",
       "197                0    0.174     0.7  115.982  audio_features   \n",
       "198                0    0.222   0.472  129.916  audio_features   \n",
       "199                0    0.162   0.762   99.988  audio_features   \n",
       "\n",
       "                         id                                   uri  \\\n",
       "0    6FE2iI43OZnszFLuLtvvmg  spotify:track:6FE2iI43OZnszFLuLtvvmg   \n",
       "1    5nujrmhLynf4yMoMtj8AQF  spotify:track:5nujrmhLynf4yMoMtj8AQF   \n",
       "2    3AszgPDZd9q0DpDFt4HFBy  spotify:track:3AszgPDZd9q0DpDFt4HFBy   \n",
       "3    6UelLqGlWMcVH1E5c4H7lY  spotify:track:6UelLqGlWMcVH1E5c4H7lY   \n",
       "4    2B4GHvToeLTOBB4QLzW3Ni  spotify:track:2B4GHvToeLTOBB4QLzW3Ni   \n",
       "..                      ...                                   ...   \n",
       "195  6QgjcU0zLnzq5OrUoSZ3OK  spotify:track:6QgjcU0zLnzq5OrUoSZ3OK   \n",
       "196  0d28khcov6AiegSCpG5TuT  spotify:track:0d28khcov6AiegSCpG5TuT   \n",
       "197  49dFIRQCQxPWgoH0m38XQ5  spotify:track:49dFIRQCQxPWgoH0m38XQ5   \n",
       "198  3wYOGJYD31sLRmBgCvWxa4  spotify:track:3wYOGJYD31sLRmBgCvWxa4   \n",
       "199  53kWAAfx7IopXRa31MQHB8  spotify:track:53kWAAfx7IopXRa31MQHB8   \n",
       "\n",
       "                                            track_href  \\\n",
       "0    https://api.spotify.com/v1/tracks/6FE2iI43OZns...   \n",
       "1    https://api.spotify.com/v1/tracks/5nujrmhLynf4...   \n",
       "2    https://api.spotify.com/v1/tracks/3AszgPDZd9q0...   \n",
       "3    https://api.spotify.com/v1/tracks/6UelLqGlWMcV...   \n",
       "4    https://api.spotify.com/v1/tracks/2B4GHvToeLTO...   \n",
       "..                                                 ...   \n",
       "195  https://api.spotify.com/v1/tracks/6QgjcU0zLnzq...   \n",
       "196  https://api.spotify.com/v1/tracks/0d28khcov6Ai...   \n",
       "197  https://api.spotify.com/v1/tracks/49dFIRQCQxPW...   \n",
       "198  https://api.spotify.com/v1/tracks/3wYOGJYD31sL...   \n",
       "199  https://api.spotify.com/v1/tracks/53kWAAfx7Iop...   \n",
       "\n",
       "                                          analysis_url duration_ms  \\\n",
       "0    https://api.spotify.com/v1/audio-analysis/6FE2...      175427   \n",
       "1    https://api.spotify.com/v1/audio-analysis/5nuj...      203064   \n",
       "2    https://api.spotify.com/v1/audio-analysis/3Asz...      239240   \n",
       "3    https://api.spotify.com/v1/audio-analysis/6Uel...      174000   \n",
       "4    https://api.spotify.com/v1/audio-analysis/2B4G...      287120   \n",
       "..                                                 ...         ...   \n",
       "195  https://api.spotify.com/v1/audio-analysis/6Qgj...      163253   \n",
       "196  https://api.spotify.com/v1/audio-analysis/0d28...      222640   \n",
       "197  https://api.spotify.com/v1/audio-analysis/49dF...      160289   \n",
       "198  https://api.spotify.com/v1/audio-analysis/3wYO...      167308   \n",
       "199  https://api.spotify.com/v1/audio-analysis/53kW...      170280   \n",
       "\n",
       "    time_signature  \n",
       "0                4  \n",
       "1                4  \n",
       "2                4  \n",
       "3                4  \n",
       "4                4  \n",
       "..             ...  \n",
       "195              4  \n",
       "196              4  \n",
       "197              4  \n",
       "198              4  \n",
       "199              4  \n",
       "\n",
       "[200 rows x 20 columns]"
      ]
     },
     "execution_count": 5,
     "metadata": {},
     "output_type": "execute_result"
    }
   ],
   "source": [
    "playlist_ids = ['https://open.spotify.com/playlist/7s09coXLGbofhNrwSusr4G?si=PxiHm8HWT7iJiLWiJ0chEA&utm_source=copy-link', 'https://open.spotify.com/playlist/7s09coXLGbofhNrwSusr4G?si=PxiHm8HWT7iJiLWiJ0chEA&utm_source=copy-link']\n",
    "row_counter = 0\n",
    "\n",
    "for playlist_id in playlist_ids:\n",
    "    for track in sp.user_playlist_tracks('The Best Vibes 💖', 'https://open.spotify.com/playlist/7s09coXLGbofhNrwSusr4G?si=PxiHm8HWT7iJiLWiJ0chEA&utm_source=copy-link')['items']:\n",
    "        current_id = track['track']['id']\n",
    "        current_row = [track['track']['artists'][0]['name'], track['track']['name']]\n",
    "        (list(map(lambda x: current_row.append(x), list(sp.audio_features(current_id)[0].values()))))\n",
    "        playlist_tracks.iloc[row_counter] = current_row\n",
    "        row_counter += 1\n",
    "playlist_tracks"
   ]
  },
  {
   "cell_type": "code",
   "execution_count": 6,
   "metadata": {
    "id": "n_6HWooXCji_"
   },
   "outputs": [],
   "source": [
    "# Download File Ke CSV\n",
    "playlist_tracks.to_csv('file_spotifyplaylist_The Best Vibes 💖.csv', encoding='utf-8', index = False)\n",
    "\n",
    "\n",
    "#playlist_tracks.to_csv(r'/content/sample_data', index = False, header = True)"
   ]
  },
  {
   "cell_type": "markdown",
   "metadata": {
    "id": "UIQbOeM2FVVv"
   },
   "source": [
    "### Playlist 2"
   ]
  },
  {
   "cell_type": "code",
   "execution_count": 7,
   "metadata": {
    "colab": {
     "base_uri": "https://localhost:8080/",
     "height": 226
    },
    "id": "uvalNJ_qFEdB",
    "outputId": "80836180-00c5-45d8-965c-fb379892cf42"
   },
   "outputs": [
    {
     "data": {
      "text/html": [
       "<div>\n",
       "<style scoped>\n",
       "    .dataframe tbody tr th:only-of-type {\n",
       "        vertical-align: middle;\n",
       "    }\n",
       "\n",
       "    .dataframe tbody tr th {\n",
       "        vertical-align: top;\n",
       "    }\n",
       "\n",
       "    .dataframe thead th {\n",
       "        text-align: right;\n",
       "    }\n",
       "</style>\n",
       "<table border=\"1\" class=\"dataframe\">\n",
       "  <thead>\n",
       "    <tr style=\"text-align: right;\">\n",
       "      <th></th>\n",
       "      <th>artist</th>\n",
       "      <th>track</th>\n",
       "      <th>danceability</th>\n",
       "      <th>energy</th>\n",
       "      <th>key</th>\n",
       "      <th>loudness</th>\n",
       "      <th>mode</th>\n",
       "      <th>speechiness</th>\n",
       "      <th>acousticness</th>\n",
       "      <th>instrumentalness</th>\n",
       "      <th>liveness</th>\n",
       "      <th>valence</th>\n",
       "      <th>tempo</th>\n",
       "      <th>type</th>\n",
       "      <th>id</th>\n",
       "      <th>uri</th>\n",
       "      <th>track_href</th>\n",
       "      <th>analysis_url</th>\n",
       "      <th>duration_ms</th>\n",
       "      <th>time_signature</th>\n",
       "    </tr>\n",
       "  </thead>\n",
       "  <tbody>\n",
       "    <tr>\n",
       "      <th>0</th>\n",
       "      <td>NaN</td>\n",
       "      <td>NaN</td>\n",
       "      <td>NaN</td>\n",
       "      <td>NaN</td>\n",
       "      <td>NaN</td>\n",
       "      <td>NaN</td>\n",
       "      <td>NaN</td>\n",
       "      <td>NaN</td>\n",
       "      <td>NaN</td>\n",
       "      <td>NaN</td>\n",
       "      <td>NaN</td>\n",
       "      <td>NaN</td>\n",
       "      <td>NaN</td>\n",
       "      <td>NaN</td>\n",
       "      <td>NaN</td>\n",
       "      <td>NaN</td>\n",
       "      <td>NaN</td>\n",
       "      <td>NaN</td>\n",
       "      <td>NaN</td>\n",
       "      <td>NaN</td>\n",
       "    </tr>\n",
       "    <tr>\n",
       "      <th>1</th>\n",
       "      <td>NaN</td>\n",
       "      <td>NaN</td>\n",
       "      <td>NaN</td>\n",
       "      <td>NaN</td>\n",
       "      <td>NaN</td>\n",
       "      <td>NaN</td>\n",
       "      <td>NaN</td>\n",
       "      <td>NaN</td>\n",
       "      <td>NaN</td>\n",
       "      <td>NaN</td>\n",
       "      <td>NaN</td>\n",
       "      <td>NaN</td>\n",
       "      <td>NaN</td>\n",
       "      <td>NaN</td>\n",
       "      <td>NaN</td>\n",
       "      <td>NaN</td>\n",
       "      <td>NaN</td>\n",
       "      <td>NaN</td>\n",
       "      <td>NaN</td>\n",
       "      <td>NaN</td>\n",
       "    </tr>\n",
       "    <tr>\n",
       "      <th>2</th>\n",
       "      <td>NaN</td>\n",
       "      <td>NaN</td>\n",
       "      <td>NaN</td>\n",
       "      <td>NaN</td>\n",
       "      <td>NaN</td>\n",
       "      <td>NaN</td>\n",
       "      <td>NaN</td>\n",
       "      <td>NaN</td>\n",
       "      <td>NaN</td>\n",
       "      <td>NaN</td>\n",
       "      <td>NaN</td>\n",
       "      <td>NaN</td>\n",
       "      <td>NaN</td>\n",
       "      <td>NaN</td>\n",
       "      <td>NaN</td>\n",
       "      <td>NaN</td>\n",
       "      <td>NaN</td>\n",
       "      <td>NaN</td>\n",
       "      <td>NaN</td>\n",
       "      <td>NaN</td>\n",
       "    </tr>\n",
       "    <tr>\n",
       "      <th>3</th>\n",
       "      <td>NaN</td>\n",
       "      <td>NaN</td>\n",
       "      <td>NaN</td>\n",
       "      <td>NaN</td>\n",
       "      <td>NaN</td>\n",
       "      <td>NaN</td>\n",
       "      <td>NaN</td>\n",
       "      <td>NaN</td>\n",
       "      <td>NaN</td>\n",
       "      <td>NaN</td>\n",
       "      <td>NaN</td>\n",
       "      <td>NaN</td>\n",
       "      <td>NaN</td>\n",
       "      <td>NaN</td>\n",
       "      <td>NaN</td>\n",
       "      <td>NaN</td>\n",
       "      <td>NaN</td>\n",
       "      <td>NaN</td>\n",
       "      <td>NaN</td>\n",
       "      <td>NaN</td>\n",
       "    </tr>\n",
       "    <tr>\n",
       "      <th>4</th>\n",
       "      <td>NaN</td>\n",
       "      <td>NaN</td>\n",
       "      <td>NaN</td>\n",
       "      <td>NaN</td>\n",
       "      <td>NaN</td>\n",
       "      <td>NaN</td>\n",
       "      <td>NaN</td>\n",
       "      <td>NaN</td>\n",
       "      <td>NaN</td>\n",
       "      <td>NaN</td>\n",
       "      <td>NaN</td>\n",
       "      <td>NaN</td>\n",
       "      <td>NaN</td>\n",
       "      <td>NaN</td>\n",
       "      <td>NaN</td>\n",
       "      <td>NaN</td>\n",
       "      <td>NaN</td>\n",
       "      <td>NaN</td>\n",
       "      <td>NaN</td>\n",
       "      <td>NaN</td>\n",
       "    </tr>\n",
       "  </tbody>\n",
       "</table>\n",
       "</div>"
      ],
      "text/plain": [
       "  artist track danceability energy  key loudness mode speechiness  \\\n",
       "0    NaN   NaN          NaN    NaN  NaN      NaN  NaN         NaN   \n",
       "1    NaN   NaN          NaN    NaN  NaN      NaN  NaN         NaN   \n",
       "2    NaN   NaN          NaN    NaN  NaN      NaN  NaN         NaN   \n",
       "3    NaN   NaN          NaN    NaN  NaN      NaN  NaN         NaN   \n",
       "4    NaN   NaN          NaN    NaN  NaN      NaN  NaN         NaN   \n",
       "\n",
       "  acousticness instrumentalness liveness valence tempo type   id  uri  \\\n",
       "0          NaN              NaN      NaN     NaN   NaN  NaN  NaN  NaN   \n",
       "1          NaN              NaN      NaN     NaN   NaN  NaN  NaN  NaN   \n",
       "2          NaN              NaN      NaN     NaN   NaN  NaN  NaN  NaN   \n",
       "3          NaN              NaN      NaN     NaN   NaN  NaN  NaN  NaN   \n",
       "4          NaN              NaN      NaN     NaN   NaN  NaN  NaN  NaN   \n",
       "\n",
       "  track_href analysis_url duration_ms time_signature  \n",
       "0        NaN          NaN         NaN            NaN  \n",
       "1        NaN          NaN         NaN            NaN  \n",
       "2        NaN          NaN         NaN            NaN  \n",
       "3        NaN          NaN         NaN            NaN  \n",
       "4        NaN          NaN         NaN            NaN  "
      ]
     },
     "execution_count": 7,
     "metadata": {},
     "output_type": "execute_result"
    }
   ],
   "source": [
    "id_test = sp.user_playlist_tracks('Spotify', 'https://open.spotify.com/playlist/37i9dQZF1DWSf2RDTDayIx?si=UF_weTBQR16tpwptypF0Tw&utm_source=copy-link&nd=1')['items'][0]['track']['id']\n",
    "columns = ['artist', 'track']\n",
    "list(map(lambda x: columns.append(x), list(sp.audio_features(id_test)[0].keys())))\n",
    "\n",
    "playlist_tracks = pd.DataFrame(columns = columns, index = range(0, 200))\n",
    "playlist_tracks.head()"
   ]
  },
  {
   "cell_type": "code",
   "execution_count": 8,
   "metadata": {
    "colab": {
     "base_uri": "https://localhost:8080/",
     "height": 634
    },
    "id": "zJ26C6TRFLAU",
    "outputId": "e21188fb-0348-4859-abf1-6419ccd05fbb"
   },
   "outputs": [
    {
     "data": {
      "text/html": [
       "<div>\n",
       "<style scoped>\n",
       "    .dataframe tbody tr th:only-of-type {\n",
       "        vertical-align: middle;\n",
       "    }\n",
       "\n",
       "    .dataframe tbody tr th {\n",
       "        vertical-align: top;\n",
       "    }\n",
       "\n",
       "    .dataframe thead th {\n",
       "        text-align: right;\n",
       "    }\n",
       "</style>\n",
       "<table border=\"1\" class=\"dataframe\">\n",
       "  <thead>\n",
       "    <tr style=\"text-align: right;\">\n",
       "      <th></th>\n",
       "      <th>artist</th>\n",
       "      <th>track</th>\n",
       "      <th>danceability</th>\n",
       "      <th>energy</th>\n",
       "      <th>key</th>\n",
       "      <th>loudness</th>\n",
       "      <th>mode</th>\n",
       "      <th>speechiness</th>\n",
       "      <th>acousticness</th>\n",
       "      <th>instrumentalness</th>\n",
       "      <th>liveness</th>\n",
       "      <th>valence</th>\n",
       "      <th>tempo</th>\n",
       "      <th>type</th>\n",
       "      <th>id</th>\n",
       "      <th>uri</th>\n",
       "      <th>track_href</th>\n",
       "      <th>analysis_url</th>\n",
       "      <th>duration_ms</th>\n",
       "      <th>time_signature</th>\n",
       "    </tr>\n",
       "  </thead>\n",
       "  <tbody>\n",
       "    <tr>\n",
       "      <th>0</th>\n",
       "      <td>Sam Feldt</td>\n",
       "      <td>Call On Me (feat. Georgia Ku)</td>\n",
       "      <td>0.662</td>\n",
       "      <td>0.794</td>\n",
       "      <td>6</td>\n",
       "      <td>-4.239</td>\n",
       "      <td>1</td>\n",
       "      <td>0.0533</td>\n",
       "      <td>0.171</td>\n",
       "      <td>0</td>\n",
       "      <td>0.0883</td>\n",
       "      <td>0.641</td>\n",
       "      <td>104.951</td>\n",
       "      <td>audio_features</td>\n",
       "      <td>3pBv3LfvfPft2TqHleqKHo</td>\n",
       "      <td>spotify:track:3pBv3LfvfPft2TqHleqKHo</td>\n",
       "      <td>https://api.spotify.com/v1/tracks/3pBv3LfvfPft...</td>\n",
       "      <td>https://api.spotify.com/v1/audio-analysis/3pBv...</td>\n",
       "      <td>192000</td>\n",
       "      <td>4</td>\n",
       "    </tr>\n",
       "    <tr>\n",
       "      <th>1</th>\n",
       "      <td>Syn Cole</td>\n",
       "      <td>Breathe (feat. kaspara)</td>\n",
       "      <td>0.753</td>\n",
       "      <td>0.749</td>\n",
       "      <td>6</td>\n",
       "      <td>-5.214</td>\n",
       "      <td>1</td>\n",
       "      <td>0.0314</td>\n",
       "      <td>0.0546</td>\n",
       "      <td>0.000004</td>\n",
       "      <td>0.166</td>\n",
       "      <td>0.589</td>\n",
       "      <td>121.988</td>\n",
       "      <td>audio_features</td>\n",
       "      <td>7pDdE5FLqcNCvjxzRzm80r</td>\n",
       "      <td>spotify:track:7pDdE5FLqcNCvjxzRzm80r</td>\n",
       "      <td>https://api.spotify.com/v1/tracks/7pDdE5FLqcNC...</td>\n",
       "      <td>https://api.spotify.com/v1/audio-analysis/7pDd...</td>\n",
       "      <td>175082</td>\n",
       "      <td>4</td>\n",
       "    </tr>\n",
       "    <tr>\n",
       "      <th>2</th>\n",
       "      <td>Gryffin</td>\n",
       "      <td>Best Is Yet To Come (with Kyle Reynolds)</td>\n",
       "      <td>0.569</td>\n",
       "      <td>0.85</td>\n",
       "      <td>4</td>\n",
       "      <td>-3.914</td>\n",
       "      <td>1</td>\n",
       "      <td>0.0369</td>\n",
       "      <td>0.0148</td>\n",
       "      <td>0</td>\n",
       "      <td>0.245</td>\n",
       "      <td>0.551</td>\n",
       "      <td>122.042</td>\n",
       "      <td>audio_features</td>\n",
       "      <td>2gZwBmkSmsVfEPFWGuWTDk</td>\n",
       "      <td>spotify:track:2gZwBmkSmsVfEPFWGuWTDk</td>\n",
       "      <td>https://api.spotify.com/v1/tracks/2gZwBmkSmsVf...</td>\n",
       "      <td>https://api.spotify.com/v1/audio-analysis/2gZw...</td>\n",
       "      <td>215201</td>\n",
       "      <td>4</td>\n",
       "    </tr>\n",
       "    <tr>\n",
       "      <th>3</th>\n",
       "      <td>Tensnake</td>\n",
       "      <td>Antibodies - LP Giobbi Remix</td>\n",
       "      <td>0.61</td>\n",
       "      <td>0.765</td>\n",
       "      <td>3</td>\n",
       "      <td>-4.914</td>\n",
       "      <td>1</td>\n",
       "      <td>0.172</td>\n",
       "      <td>0.175</td>\n",
       "      <td>0.000001</td>\n",
       "      <td>0.0914</td>\n",
       "      <td>0.243</td>\n",
       "      <td>125.028</td>\n",
       "      <td>audio_features</td>\n",
       "      <td>2BqIdDEwf8bHH0JuwS9j4O</td>\n",
       "      <td>spotify:track:2BqIdDEwf8bHH0JuwS9j4O</td>\n",
       "      <td>https://api.spotify.com/v1/tracks/2BqIdDEwf8bH...</td>\n",
       "      <td>https://api.spotify.com/v1/audio-analysis/2BqI...</td>\n",
       "      <td>312226</td>\n",
       "      <td>4</td>\n",
       "    </tr>\n",
       "    <tr>\n",
       "      <th>4</th>\n",
       "      <td>Felix Cartal</td>\n",
       "      <td>Happy Hour</td>\n",
       "      <td>0.625</td>\n",
       "      <td>0.855</td>\n",
       "      <td>5</td>\n",
       "      <td>-3.184</td>\n",
       "      <td>0</td>\n",
       "      <td>0.0401</td>\n",
       "      <td>0.00324</td>\n",
       "      <td>0</td>\n",
       "      <td>0.742</td>\n",
       "      <td>0.303</td>\n",
       "      <td>120.004</td>\n",
       "      <td>audio_features</td>\n",
       "      <td>0Q8I9WVpuNEFPiF83ZpcvU</td>\n",
       "      <td>spotify:track:0Q8I9WVpuNEFPiF83ZpcvU</td>\n",
       "      <td>https://api.spotify.com/v1/tracks/0Q8I9WVpuNEF...</td>\n",
       "      <td>https://api.spotify.com/v1/audio-analysis/0Q8I...</td>\n",
       "      <td>168000</td>\n",
       "      <td>4</td>\n",
       "    </tr>\n",
       "    <tr>\n",
       "      <th>...</th>\n",
       "      <td>...</td>\n",
       "      <td>...</td>\n",
       "      <td>...</td>\n",
       "      <td>...</td>\n",
       "      <td>...</td>\n",
       "      <td>...</td>\n",
       "      <td>...</td>\n",
       "      <td>...</td>\n",
       "      <td>...</td>\n",
       "      <td>...</td>\n",
       "      <td>...</td>\n",
       "      <td>...</td>\n",
       "      <td>...</td>\n",
       "      <td>...</td>\n",
       "      <td>...</td>\n",
       "      <td>...</td>\n",
       "      <td>...</td>\n",
       "      <td>...</td>\n",
       "      <td>...</td>\n",
       "      <td>...</td>\n",
       "    </tr>\n",
       "    <tr>\n",
       "      <th>195</th>\n",
       "      <td>ARTY</td>\n",
       "      <td>Kingdom</td>\n",
       "      <td>0.533</td>\n",
       "      <td>0.731</td>\n",
       "      <td>4</td>\n",
       "      <td>-3.224</td>\n",
       "      <td>1</td>\n",
       "      <td>0.0322</td>\n",
       "      <td>0.135</td>\n",
       "      <td>0.000003</td>\n",
       "      <td>0.198</td>\n",
       "      <td>0.312</td>\n",
       "      <td>127.98</td>\n",
       "      <td>audio_features</td>\n",
       "      <td>7mYp88qI0fTKLWr93vHTJM</td>\n",
       "      <td>spotify:track:7mYp88qI0fTKLWr93vHTJM</td>\n",
       "      <td>https://api.spotify.com/v1/tracks/7mYp88qI0fTK...</td>\n",
       "      <td>https://api.spotify.com/v1/audio-analysis/7mYp...</td>\n",
       "      <td>240469</td>\n",
       "      <td>4</td>\n",
       "    </tr>\n",
       "    <tr>\n",
       "      <th>196</th>\n",
       "      <td>Claptone</td>\n",
       "      <td>My Night</td>\n",
       "      <td>0.705</td>\n",
       "      <td>0.825</td>\n",
       "      <td>2</td>\n",
       "      <td>-5.439</td>\n",
       "      <td>1</td>\n",
       "      <td>0.029</td>\n",
       "      <td>0.0331</td>\n",
       "      <td>0.000003</td>\n",
       "      <td>0.261</td>\n",
       "      <td>0.581</td>\n",
       "      <td>122.035</td>\n",
       "      <td>audio_features</td>\n",
       "      <td>5bgeFf7dJArqJVi4PeD3Tp</td>\n",
       "      <td>spotify:track:5bgeFf7dJArqJVi4PeD3Tp</td>\n",
       "      <td>https://api.spotify.com/v1/tracks/5bgeFf7dJArq...</td>\n",
       "      <td>https://api.spotify.com/v1/audio-analysis/5bge...</td>\n",
       "      <td>135547</td>\n",
       "      <td>4</td>\n",
       "    </tr>\n",
       "    <tr>\n",
       "      <th>197</th>\n",
       "      <td>John Summit</td>\n",
       "      <td>Better Than This</td>\n",
       "      <td>0.673</td>\n",
       "      <td>0.839</td>\n",
       "      <td>9</td>\n",
       "      <td>-6.787</td>\n",
       "      <td>0</td>\n",
       "      <td>0.0373</td>\n",
       "      <td>0.0177</td>\n",
       "      <td>0.416</td>\n",
       "      <td>0.126</td>\n",
       "      <td>0.24</td>\n",
       "      <td>125.03</td>\n",
       "      <td>audio_features</td>\n",
       "      <td>5OLSGox6JVpAyEQuoSYRcs</td>\n",
       "      <td>spotify:track:5OLSGox6JVpAyEQuoSYRcs</td>\n",
       "      <td>https://api.spotify.com/v1/tracks/5OLSGox6JVpA...</td>\n",
       "      <td>https://api.spotify.com/v1/audio-analysis/5OLS...</td>\n",
       "      <td>188160</td>\n",
       "      <td>4</td>\n",
       "    </tr>\n",
       "    <tr>\n",
       "      <th>198</th>\n",
       "      <td>Jodie Harsh</td>\n",
       "      <td>Never Knew (L.O.V.E.)</td>\n",
       "      <td>0.824</td>\n",
       "      <td>0.972</td>\n",
       "      <td>8</td>\n",
       "      <td>-4.045</td>\n",
       "      <td>0</td>\n",
       "      <td>0.0495</td>\n",
       "      <td>0.0384</td>\n",
       "      <td>0.0819</td>\n",
       "      <td>0.502</td>\n",
       "      <td>0.759</td>\n",
       "      <td>125.978</td>\n",
       "      <td>audio_features</td>\n",
       "      <td>7DGGa4uHnoQeYHSeCWrPOa</td>\n",
       "      <td>spotify:track:7DGGa4uHnoQeYHSeCWrPOa</td>\n",
       "      <td>https://api.spotify.com/v1/tracks/7DGGa4uHnoQe...</td>\n",
       "      <td>https://api.spotify.com/v1/audio-analysis/7DGG...</td>\n",
       "      <td>175238</td>\n",
       "      <td>4</td>\n",
       "    </tr>\n",
       "    <tr>\n",
       "      <th>199</th>\n",
       "      <td>TCTS</td>\n",
       "      <td>Better Without You (feat. Glowie)</td>\n",
       "      <td>0.754</td>\n",
       "      <td>0.804</td>\n",
       "      <td>10</td>\n",
       "      <td>-5.896</td>\n",
       "      <td>0</td>\n",
       "      <td>0.0557</td>\n",
       "      <td>0.0166</td>\n",
       "      <td>0.000007</td>\n",
       "      <td>0.0472</td>\n",
       "      <td>0.708</td>\n",
       "      <td>123.03</td>\n",
       "      <td>audio_features</td>\n",
       "      <td>1tQNwQeYxq5FsSm0FALERe</td>\n",
       "      <td>spotify:track:1tQNwQeYxq5FsSm0FALERe</td>\n",
       "      <td>https://api.spotify.com/v1/tracks/1tQNwQeYxq5F...</td>\n",
       "      <td>https://api.spotify.com/v1/audio-analysis/1tQN...</td>\n",
       "      <td>147998</td>\n",
       "      <td>4</td>\n",
       "    </tr>\n",
       "  </tbody>\n",
       "</table>\n",
       "<p>200 rows × 20 columns</p>\n",
       "</div>"
      ],
      "text/plain": [
       "           artist                                     track danceability  \\\n",
       "0       Sam Feldt             Call On Me (feat. Georgia Ku)        0.662   \n",
       "1        Syn Cole                   Breathe (feat. kaspara)        0.753   \n",
       "2         Gryffin  Best Is Yet To Come (with Kyle Reynolds)        0.569   \n",
       "3        Tensnake              Antibodies - LP Giobbi Remix         0.61   \n",
       "4    Felix Cartal                                Happy Hour        0.625   \n",
       "..            ...                                       ...          ...   \n",
       "195          ARTY                                   Kingdom        0.533   \n",
       "196      Claptone                                  My Night        0.705   \n",
       "197   John Summit                          Better Than This        0.673   \n",
       "198   Jodie Harsh                     Never Knew (L.O.V.E.)        0.824   \n",
       "199          TCTS         Better Without You (feat. Glowie)        0.754   \n",
       "\n",
       "    energy key loudness mode speechiness acousticness instrumentalness  \\\n",
       "0    0.794   6   -4.239    1      0.0533        0.171                0   \n",
       "1    0.749   6   -5.214    1      0.0314       0.0546         0.000004   \n",
       "2     0.85   4   -3.914    1      0.0369       0.0148                0   \n",
       "3    0.765   3   -4.914    1       0.172        0.175         0.000001   \n",
       "4    0.855   5   -3.184    0      0.0401      0.00324                0   \n",
       "..     ...  ..      ...  ...         ...          ...              ...   \n",
       "195  0.731   4   -3.224    1      0.0322        0.135         0.000003   \n",
       "196  0.825   2   -5.439    1       0.029       0.0331         0.000003   \n",
       "197  0.839   9   -6.787    0      0.0373       0.0177            0.416   \n",
       "198  0.972   8   -4.045    0      0.0495       0.0384           0.0819   \n",
       "199  0.804  10   -5.896    0      0.0557       0.0166         0.000007   \n",
       "\n",
       "    liveness valence    tempo            type                      id  \\\n",
       "0     0.0883   0.641  104.951  audio_features  3pBv3LfvfPft2TqHleqKHo   \n",
       "1      0.166   0.589  121.988  audio_features  7pDdE5FLqcNCvjxzRzm80r   \n",
       "2      0.245   0.551  122.042  audio_features  2gZwBmkSmsVfEPFWGuWTDk   \n",
       "3     0.0914   0.243  125.028  audio_features  2BqIdDEwf8bHH0JuwS9j4O   \n",
       "4      0.742   0.303  120.004  audio_features  0Q8I9WVpuNEFPiF83ZpcvU   \n",
       "..       ...     ...      ...             ...                     ...   \n",
       "195    0.198   0.312   127.98  audio_features  7mYp88qI0fTKLWr93vHTJM   \n",
       "196    0.261   0.581  122.035  audio_features  5bgeFf7dJArqJVi4PeD3Tp   \n",
       "197    0.126    0.24   125.03  audio_features  5OLSGox6JVpAyEQuoSYRcs   \n",
       "198    0.502   0.759  125.978  audio_features  7DGGa4uHnoQeYHSeCWrPOa   \n",
       "199   0.0472   0.708   123.03  audio_features  1tQNwQeYxq5FsSm0FALERe   \n",
       "\n",
       "                                      uri  \\\n",
       "0    spotify:track:3pBv3LfvfPft2TqHleqKHo   \n",
       "1    spotify:track:7pDdE5FLqcNCvjxzRzm80r   \n",
       "2    spotify:track:2gZwBmkSmsVfEPFWGuWTDk   \n",
       "3    spotify:track:2BqIdDEwf8bHH0JuwS9j4O   \n",
       "4    spotify:track:0Q8I9WVpuNEFPiF83ZpcvU   \n",
       "..                                    ...   \n",
       "195  spotify:track:7mYp88qI0fTKLWr93vHTJM   \n",
       "196  spotify:track:5bgeFf7dJArqJVi4PeD3Tp   \n",
       "197  spotify:track:5OLSGox6JVpAyEQuoSYRcs   \n",
       "198  spotify:track:7DGGa4uHnoQeYHSeCWrPOa   \n",
       "199  spotify:track:1tQNwQeYxq5FsSm0FALERe   \n",
       "\n",
       "                                            track_href  \\\n",
       "0    https://api.spotify.com/v1/tracks/3pBv3LfvfPft...   \n",
       "1    https://api.spotify.com/v1/tracks/7pDdE5FLqcNC...   \n",
       "2    https://api.spotify.com/v1/tracks/2gZwBmkSmsVf...   \n",
       "3    https://api.spotify.com/v1/tracks/2BqIdDEwf8bH...   \n",
       "4    https://api.spotify.com/v1/tracks/0Q8I9WVpuNEF...   \n",
       "..                                                 ...   \n",
       "195  https://api.spotify.com/v1/tracks/7mYp88qI0fTK...   \n",
       "196  https://api.spotify.com/v1/tracks/5bgeFf7dJArq...   \n",
       "197  https://api.spotify.com/v1/tracks/5OLSGox6JVpA...   \n",
       "198  https://api.spotify.com/v1/tracks/7DGGa4uHnoQe...   \n",
       "199  https://api.spotify.com/v1/tracks/1tQNwQeYxq5F...   \n",
       "\n",
       "                                          analysis_url duration_ms  \\\n",
       "0    https://api.spotify.com/v1/audio-analysis/3pBv...      192000   \n",
       "1    https://api.spotify.com/v1/audio-analysis/7pDd...      175082   \n",
       "2    https://api.spotify.com/v1/audio-analysis/2gZw...      215201   \n",
       "3    https://api.spotify.com/v1/audio-analysis/2BqI...      312226   \n",
       "4    https://api.spotify.com/v1/audio-analysis/0Q8I...      168000   \n",
       "..                                                 ...         ...   \n",
       "195  https://api.spotify.com/v1/audio-analysis/7mYp...      240469   \n",
       "196  https://api.spotify.com/v1/audio-analysis/5bge...      135547   \n",
       "197  https://api.spotify.com/v1/audio-analysis/5OLS...      188160   \n",
       "198  https://api.spotify.com/v1/audio-analysis/7DGG...      175238   \n",
       "199  https://api.spotify.com/v1/audio-analysis/1tQN...      147998   \n",
       "\n",
       "    time_signature  \n",
       "0                4  \n",
       "1                4  \n",
       "2                4  \n",
       "3                4  \n",
       "4                4  \n",
       "..             ...  \n",
       "195              4  \n",
       "196              4  \n",
       "197              4  \n",
       "198              4  \n",
       "199              4  \n",
       "\n",
       "[200 rows x 20 columns]"
      ]
     },
     "execution_count": 8,
     "metadata": {},
     "output_type": "execute_result"
    }
   ],
   "source": [
    "playlist_ids = ['https://open.spotify.com/playlist/37i9dQZF1DWSf2RDTDayIx?si=UF_weTBQR16tpwptypF0Tw&utm_source=copy-link&nd=1', 'https://open.spotify.com/playlist/37i9dQZF1DWSf2RDTDayIx?si=UF_weTBQR16tpwptypF0Tw&utm_source=copy-link&nd=1']\n",
    "row_counter = 0\n",
    "\n",
    "for playlist_id in playlist_ids:\n",
    "    for track in sp.user_playlist_tracks('Spotify', 'https://open.spotify.com/playlist/37i9dQZF1DWSf2RDTDayIx?si=UF_weTBQR16tpwptypF0Tw&utm_source=copy-link&nd=1')['items']:\n",
    "        current_id = track['track']['id']\n",
    "        current_row = [track['track']['artists'][0]['name'], track['track']['name']]\n",
    "        (list(map(lambda x: current_row.append(x), list(sp.audio_features(current_id)[0].values()))))\n",
    "        playlist_tracks.iloc[row_counter] = current_row\n",
    "        row_counter += 1\n",
    "playlist_tracks"
   ]
  },
  {
   "cell_type": "code",
   "execution_count": 9,
   "metadata": {
    "id": "YB36NQwpFLsg"
   },
   "outputs": [],
   "source": [
    "playlist_tracks.to_csv('file_spotifyplaylist_HappyBeats.csv', encoding='utf-8', index = False)\n",
    "\n",
    "#playlist_tracks.to_csv(r'/content/sample_data', index = False, header = True)"
   ]
  },
  {
   "cell_type": "markdown",
   "metadata": {
    "id": "S1_uZBUGD2S_"
   },
   "source": [
    "## Data Preparation\n",
    "* Acquire and Cleansing the data"
   ]
  },
  {
   "cell_type": "code",
   "execution_count": 10,
   "metadata": {
    "id": "scw_YiHOCjmM"
   },
   "outputs": [],
   "source": [
    "from sklearn.neighbors import NearestNeighbors\n",
    "import pandas as pd\n",
    "import plotly.express as px\n",
    "import matplotlib.pyplot as plt\n",
    "get_ipython().run_line_magic('matplotlib', 'inline')\n",
    "import numpy as np\n",
    "import seaborn as sns"
   ]
  },
  {
   "cell_type": "code",
   "execution_count": 11,
   "metadata": {
    "id": "dGlVqO_SCjpZ"
   },
   "outputs": [],
   "source": [
    "# Read in csv file to each playlist and graph each attribute to spot differences.\n",
    "moodboost = pd.read_csv(\"C:/Users/bonda/OneDrive/Documents/ITS/Microcredential Data Scientist/Final Project/From Github/MSIB_CapsProject/file_spotifyplaylist_The Best Vibes 💖.csv\")\n",
    "softpop = pd.read_csv(\"C:/Users/bonda/OneDrive/Documents/ITS/Microcredential Data Scientist/Final Project/From Github/MSIB_CapsProject/file_spotifyplaylist_HappyBeats.csv\")"
   ]
  },
  {
   "cell_type": "code",
   "execution_count": 12,
   "metadata": {
    "colab": {
     "base_uri": "https://localhost:8080/",
     "height": 313
    },
    "id": "AuMMZB3qD1RV",
    "outputId": "57a14110-e0f1-4745-84e6-7eccb3049081"
   },
   "outputs": [
    {
     "data": {
      "text/plain": [
       "Text(0.5, 1.0, 'Intensitas Energi dari semua lagu di kedua playlist')"
      ]
     },
     "execution_count": 12,
     "metadata": {},
     "output_type": "execute_result"
    },
    {
     "data": {
      "image/png": "[encoded data removed]",
      "text/plain": [
       "<Figure size 432x288 with 1 Axes>"
      ]
     },
     "metadata": {
      "needs_background": "light"
     },
     "output_type": "display_data"
    }
   ],
   "source": [
    "#  attributes berdasarkan energi\n",
    "# Grafik Mencari Atribut dan Perpotongan\n",
    "plt.plot(moodboost.energy, color='blue')\n",
    "plt.plot(softpop.energy, color='maroon')\n",
    "plt.xlabel(\"Berdasarkan Lagu\")\n",
    "plt.ylabel(\"Intensitas Berdasakan Atribut Energi\")\n",
    "plt.title(\"Intensitas Energi dari semua lagu di kedua playlist\")"
   ]
  },
  {
   "cell_type": "code",
   "execution_count": 13,
   "metadata": {},
   "outputs": [
    {
     "data": {
      "text/plain": [
       "Text(0.5, 1.0, 'Intensitas loudness dari semua lagu di kedua playlist')"
      ]
     },
     "execution_count": 13,
     "metadata": {},
     "output_type": "execute_result"
    },
    {
     "data": {
      "image/png": "[encoded data removed]",
      "text/plain": [
       "<Figure size 432x288 with 1 Axes>"
      ]
     },
     "metadata": {
      "needs_background": "light"
     },
     "output_type": "display_data"
    }
   ],
   "source": [
    "#  attributes berdasarkan loudness\n",
    "plt.plot(moodboost.loudness, color='blue')\n",
    "plt.plot(softpop.loudness, color='maroon')\n",
    "plt.xlabel(\"Berdasarkan Lagu\")\n",
    "plt.ylabel(\"Intensitas Berdasakan Atribut loudness\")\n",
    "plt.title(\"Intensitas loudness dari semua lagu di kedua playlist\")"
   ]
  },
  {
   "cell_type": "code",
   "execution_count": 14,
   "metadata": {},
   "outputs": [
    {
     "data": {
      "text/plain": [
       "Text(0.5, 1.0, 'Intensitas acousticness dari semua lagu di kedua playlist')"
      ]
     },
     "execution_count": 14,
     "metadata": {},
     "output_type": "execute_result"
    },
    {
     "data": {
      "image/png": "[encoded data removed]",
      "text/plain": [
       "<Figure size 432x288 with 1 Axes>"
      ]
     },
     "metadata": {
      "needs_background": "light"
     },
     "output_type": "display_data"
    }
   ],
   "source": [
    "#  attributes berdasarkan acousticness\n",
    "plt.plot(moodboost.acousticness, color='blue')\n",
    "plt.plot(softpop.acousticness, color='maroon')\n",
    "plt.xlabel(\"Berdasarkan Lagu\")\n",
    "plt.ylabel(\"Intensitas Berdasakan Atribut acousticness\")\n",
    "plt.title(\"Intensitas acousticness dari semua lagu di kedua playlist\")"
   ]
  },
  {
   "cell_type": "code",
   "execution_count": null,
   "metadata": {
    "colab": {
     "base_uri": "https://localhost:8080/"
    },
    "id": "qVDGRNF3Jyrd",
    "outputId": "814ada69-0ad3-48c7-ebdd-0df422f524cc"
   },
   "outputs": [
    {
     "name": "stdout",
     "output_type": "stream",
     "text": [
      "Mounted at /content/drive\n"
     ]
    }
   ],
   "source": [
    "# Mount From Collab\n",
    "# In this Case We use the local terminal for upload in github, We doesn't use this\n",
    "#from google.colab import drive\n",
    "#drive.mount('/content/drive')"
   ]
  },
  {
   "cell_type": "code",
   "execution_count": 15,
   "metadata": {},
   "outputs": [],
   "source": [
    "# target\n",
    "moodboost['target']=0\n",
    "softpop['target']=1"
   ]
  },
  {
   "cell_type": "code",
   "execution_count": 16,
   "metadata": {},
   "outputs": [
    {
     "data": {
      "text/html": [
       "<div>\n",
       "<style scoped>\n",
       "    .dataframe tbody tr th:only-of-type {\n",
       "        vertical-align: middle;\n",
       "    }\n",
       "\n",
       "    .dataframe tbody tr th {\n",
       "        vertical-align: top;\n",
       "    }\n",
       "\n",
       "    .dataframe thead th {\n",
       "        text-align: right;\n",
       "    }\n",
       "</style>\n",
       "<table border=\"1\" class=\"dataframe\">\n",
       "  <thead>\n",
       "    <tr style=\"text-align: right;\">\n",
       "      <th></th>\n",
       "      <th>artist</th>\n",
       "      <th>track</th>\n",
       "      <th>danceability</th>\n",
       "      <th>energy</th>\n",
       "      <th>key</th>\n",
       "      <th>loudness</th>\n",
       "      <th>mode</th>\n",
       "      <th>speechiness</th>\n",
       "      <th>acousticness</th>\n",
       "      <th>instrumentalness</th>\n",
       "      <th>...</th>\n",
       "      <th>valence</th>\n",
       "      <th>tempo</th>\n",
       "      <th>type</th>\n",
       "      <th>id</th>\n",
       "      <th>uri</th>\n",
       "      <th>track_href</th>\n",
       "      <th>analysis_url</th>\n",
       "      <th>duration_ms</th>\n",
       "      <th>time_signature</th>\n",
       "      <th>target</th>\n",
       "    </tr>\n",
       "  </thead>\n",
       "  <tbody>\n",
       "    <tr>\n",
       "      <th>0</th>\n",
       "      <td>MKTO</td>\n",
       "      <td>Classic</td>\n",
       "      <td>0.720</td>\n",
       "      <td>0.791</td>\n",
       "      <td>1</td>\n",
       "      <td>-4.689</td>\n",
       "      <td>1</td>\n",
       "      <td>0.1240</td>\n",
       "      <td>0.03840</td>\n",
       "      <td>0.000000</td>\n",
       "      <td>...</td>\n",
       "      <td>0.756</td>\n",
       "      <td>102.071</td>\n",
       "      <td>audio_features</td>\n",
       "      <td>6FE2iI43OZnszFLuLtvvmg</td>\n",
       "      <td>spotify:track:6FE2iI43OZnszFLuLtvvmg</td>\n",
       "      <td>https://api.spotify.com/v1/tracks/6FE2iI43OZns...</td>\n",
       "      <td>https://api.spotify.com/v1/audio-analysis/6FE2...</td>\n",
       "      <td>175427</td>\n",
       "      <td>4</td>\n",
       "      <td>0</td>\n",
       "    </tr>\n",
       "    <tr>\n",
       "      <th>1</th>\n",
       "      <td>Dua Lipa</td>\n",
       "      <td>Levitating (feat. DaBaby)</td>\n",
       "      <td>0.702</td>\n",
       "      <td>0.825</td>\n",
       "      <td>6</td>\n",
       "      <td>-3.787</td>\n",
       "      <td>0</td>\n",
       "      <td>0.0601</td>\n",
       "      <td>0.00883</td>\n",
       "      <td>0.000000</td>\n",
       "      <td>...</td>\n",
       "      <td>0.915</td>\n",
       "      <td>102.977</td>\n",
       "      <td>audio_features</td>\n",
       "      <td>5nujrmhLynf4yMoMtj8AQF</td>\n",
       "      <td>spotify:track:5nujrmhLynf4yMoMtj8AQF</td>\n",
       "      <td>https://api.spotify.com/v1/tracks/5nujrmhLynf4...</td>\n",
       "      <td>https://api.spotify.com/v1/audio-analysis/5nuj...</td>\n",
       "      <td>203064</td>\n",
       "      <td>4</td>\n",
       "      <td>0</td>\n",
       "    </tr>\n",
       "    <tr>\n",
       "      <th>2</th>\n",
       "      <td>Outkast</td>\n",
       "      <td>Hey Ya!</td>\n",
       "      <td>0.715</td>\n",
       "      <td>0.970</td>\n",
       "      <td>0</td>\n",
       "      <td>-2.206</td>\n",
       "      <td>1</td>\n",
       "      <td>0.0648</td>\n",
       "      <td>0.06440</td>\n",
       "      <td>0.000156</td>\n",
       "      <td>...</td>\n",
       "      <td>0.963</td>\n",
       "      <td>79.504</td>\n",
       "      <td>audio_features</td>\n",
       "      <td>3AszgPDZd9q0DpDFt4HFBy</td>\n",
       "      <td>spotify:track:3AszgPDZd9q0DpDFt4HFBy</td>\n",
       "      <td>https://api.spotify.com/v1/tracks/3AszgPDZd9q0...</td>\n",
       "      <td>https://api.spotify.com/v1/audio-analysis/3Asz...</td>\n",
       "      <td>239240</td>\n",
       "      <td>4</td>\n",
       "      <td>0</td>\n",
       "    </tr>\n",
       "    <tr>\n",
       "      <th>3</th>\n",
       "      <td>Harry Styles</td>\n",
       "      <td>Watermelon Sugar</td>\n",
       "      <td>0.548</td>\n",
       "      <td>0.816</td>\n",
       "      <td>0</td>\n",
       "      <td>-4.209</td>\n",
       "      <td>1</td>\n",
       "      <td>0.0465</td>\n",
       "      <td>0.12200</td>\n",
       "      <td>0.000000</td>\n",
       "      <td>...</td>\n",
       "      <td>0.557</td>\n",
       "      <td>95.390</td>\n",
       "      <td>audio_features</td>\n",
       "      <td>6UelLqGlWMcVH1E5c4H7lY</td>\n",
       "      <td>spotify:track:6UelLqGlWMcVH1E5c4H7lY</td>\n",
       "      <td>https://api.spotify.com/v1/tracks/6UelLqGlWMcV...</td>\n",
       "      <td>https://api.spotify.com/v1/audio-analysis/6Uel...</td>\n",
       "      <td>174000</td>\n",
       "      <td>4</td>\n",
       "      <td>0</td>\n",
       "    </tr>\n",
       "    <tr>\n",
       "      <th>4</th>\n",
       "      <td>Farruko</td>\n",
       "      <td>Pepas</td>\n",
       "      <td>0.762</td>\n",
       "      <td>0.766</td>\n",
       "      <td>7</td>\n",
       "      <td>-3.955</td>\n",
       "      <td>1</td>\n",
       "      <td>0.0343</td>\n",
       "      <td>0.00776</td>\n",
       "      <td>0.000070</td>\n",
       "      <td>...</td>\n",
       "      <td>0.442</td>\n",
       "      <td>130.001</td>\n",
       "      <td>audio_features</td>\n",
       "      <td>2B4GHvToeLTOBB4QLzW3Ni</td>\n",
       "      <td>spotify:track:2B4GHvToeLTOBB4QLzW3Ni</td>\n",
       "      <td>https://api.spotify.com/v1/tracks/2B4GHvToeLTO...</td>\n",
       "      <td>https://api.spotify.com/v1/audio-analysis/2B4G...</td>\n",
       "      <td>287120</td>\n",
       "      <td>4</td>\n",
       "      <td>0</td>\n",
       "    </tr>\n",
       "  </tbody>\n",
       "</table>\n",
       "<p>5 rows × 21 columns</p>\n",
       "</div>"
      ],
      "text/plain": [
       "         artist                      track  danceability  energy  key  \\\n",
       "0          MKTO                    Classic         0.720   0.791    1   \n",
       "1      Dua Lipa  Levitating (feat. DaBaby)         0.702   0.825    6   \n",
       "2       Outkast                    Hey Ya!         0.715   0.970    0   \n",
       "3  Harry Styles           Watermelon Sugar         0.548   0.816    0   \n",
       "4       Farruko                      Pepas         0.762   0.766    7   \n",
       "\n",
       "   loudness  mode  speechiness  acousticness  instrumentalness  ...  valence  \\\n",
       "0    -4.689     1       0.1240       0.03840          0.000000  ...    0.756   \n",
       "1    -3.787     0       0.0601       0.00883          0.000000  ...    0.915   \n",
       "2    -2.206     1       0.0648       0.06440          0.000156  ...    0.963   \n",
       "3    -4.209     1       0.0465       0.12200          0.000000  ...    0.557   \n",
       "4    -3.955     1       0.0343       0.00776          0.000070  ...    0.442   \n",
       "\n",
       "     tempo            type                      id  \\\n",
       "0  102.071  audio_features  6FE2iI43OZnszFLuLtvvmg   \n",
       "1  102.977  audio_features  5nujrmhLynf4yMoMtj8AQF   \n",
       "2   79.504  audio_features  3AszgPDZd9q0DpDFt4HFBy   \n",
       "3   95.390  audio_features  6UelLqGlWMcVH1E5c4H7lY   \n",
       "4  130.001  audio_features  2B4GHvToeLTOBB4QLzW3Ni   \n",
       "\n",
       "                                    uri  \\\n",
       "0  spotify:track:6FE2iI43OZnszFLuLtvvmg   \n",
       "1  spotify:track:5nujrmhLynf4yMoMtj8AQF   \n",
       "2  spotify:track:3AszgPDZd9q0DpDFt4HFBy   \n",
       "3  spotify:track:6UelLqGlWMcVH1E5c4H7lY   \n",
       "4  spotify:track:2B4GHvToeLTOBB4QLzW3Ni   \n",
       "\n",
       "                                          track_href  \\\n",
       "0  https://api.spotify.com/v1/tracks/6FE2iI43OZns...   \n",
       "1  https://api.spotify.com/v1/tracks/5nujrmhLynf4...   \n",
       "2  https://api.spotify.com/v1/tracks/3AszgPDZd9q0...   \n",
       "3  https://api.spotify.com/v1/tracks/6UelLqGlWMcV...   \n",
       "4  https://api.spotify.com/v1/tracks/2B4GHvToeLTO...   \n",
       "\n",
       "                                        analysis_url duration_ms  \\\n",
       "0  https://api.spotify.com/v1/audio-analysis/6FE2...      175427   \n",
       "1  https://api.spotify.com/v1/audio-analysis/5nuj...      203064   \n",
       "2  https://api.spotify.com/v1/audio-analysis/3Asz...      239240   \n",
       "3  https://api.spotify.com/v1/audio-analysis/6Uel...      174000   \n",
       "4  https://api.spotify.com/v1/audio-analysis/2B4G...      287120   \n",
       "\n",
       "   time_signature  target  \n",
       "0               4       0  \n",
       "1               4       0  \n",
       "2               4       0  \n",
       "3               4       0  \n",
       "4               4       0  \n",
       "\n",
       "[5 rows x 21 columns]"
      ]
     },
     "execution_count": 16,
     "metadata": {},
     "output_type": "execute_result"
    }
   ],
   "source": [
    "# menggabungkan data moodboost dan softpop\n",
    "df_list = (moodboost,softpop)\n",
    "db = pd.concat(df_list)\n",
    "db.head()\n",
    "\n"
   ]
  },
  {
   "cell_type": "code",
   "execution_count": 18,
   "metadata": {},
   "outputs": [
    {
     "name": "stdout",
     "output_type": "stream",
     "text": [
      "<class 'pandas.core.frame.DataFrame'>\n",
      "Int64Index: 400 entries, 0 to 199\n",
      "Data columns (total 8 columns):\n",
      " #   Column        Non-Null Count  Dtype  \n",
      "---  ------        --------------  -----  \n",
      " 0   danceability  400 non-null    float64\n",
      " 1   energy        400 non-null    float64\n",
      " 2   loudness      400 non-null    float64\n",
      " 3   speechiness   400 non-null    float64\n",
      " 4   liveness      400 non-null    float64\n",
      " 5   acousticness  400 non-null    float64\n",
      " 6   valence       400 non-null    float64\n",
      " 7   target        400 non-null    int64  \n",
      "dtypes: float64(7), int64(1)\n",
      "memory usage: 28.1 KB\n"
     ]
    }
   ],
   "source": [
    "# memilih kolom yang digunakan\n",
    "db2 = db[['danceability','energy','loudness','speechiness','liveness','acousticness','valence','target']]\n",
    "db2.info()\n",
    "\n"
   ]
  },
  {
   "cell_type": "code",
   "execution_count": 19,
   "metadata": {},
   "outputs": [
    {
     "name": "stdout",
     "output_type": "stream",
     "text": [
      "<class 'pandas.core.frame.DataFrame'>\n",
      "Int64Index: 400 entries, 0 to 199\n",
      "Data columns (total 8 columns):\n",
      " #   Column        Non-Null Count  Dtype  \n",
      "---  ------        --------------  -----  \n",
      " 0   danceability  400 non-null    float64\n",
      " 1   energy        400 non-null    float64\n",
      " 2   loudness      400 non-null    float64\n",
      " 3   speechiness   400 non-null    float64\n",
      " 4   liveness      400 non-null    float64\n",
      " 5   acousticness  400 non-null    float64\n",
      " 6   valence       400 non-null    float64\n",
      " 7   target        400 non-null    int64  \n",
      "dtypes: float64(7), int64(1)\n",
      "memory usage: 28.1 KB\n"
     ]
    }
   ],
   "source": [
    "# menghilangkan data NA\n",
    "db3 = db2.dropna()\n",
    "db3.info()"
   ]
  },
  {
   "cell_type": "code",
   "execution_count": 20,
   "metadata": {
    "colab": {
     "base_uri": "https://localhost:8080/"
    },
    "id": "XCs59_aKGZ3g",
    "outputId": "940fc48e-b236-4c79-ea49-ba533cb8e10e"
   },
   "outputs": [
    {
     "data": {
      "text/plain": [
       "False"
      ]
     },
     "execution_count": 20,
     "metadata": {},
     "output_type": "execute_result"
    }
   ],
   "source": [
    "# check for null values\n",
    "db3.isnull().values.any()"
   ]
  },
  {
   "cell_type": "code",
   "execution_count": 21,
   "metadata": {
    "colab": {
     "base_uri": "https://localhost:8080/"
    },
    "id": "zIGTZDF6GZ7n",
    "outputId": "ad66a5a8-057e-4ac6-e301-2bb052098d05"
   },
   "outputs": [
    {
     "data": {
      "text/plain": [
       "danceability    float64\n",
       "energy          float64\n",
       "loudness        float64\n",
       "speechiness     float64\n",
       "liveness        float64\n",
       "acousticness    float64\n",
       "valence         float64\n",
       "target            int64\n",
       "dtype: object"
      ]
     },
     "execution_count": 21,
     "metadata": {},
     "output_type": "execute_result"
    }
   ],
   "source": [
    "# check for integer datatypes (numpy arrays only work with integers)\n",
    "db3.dtypes"
   ]
  },
  {
   "cell_type": "code",
   "execution_count": 22,
   "metadata": {
    "id": "Em6d9YtBGZ-z"
   },
   "outputs": [],
   "source": [
    "db3['danceability']=db3['danceability'].astype(int)"
   ]
  },
  {
   "cell_type": "code",
   "execution_count": 23,
   "metadata": {
    "colab": {
     "base_uri": "https://localhost:8080/"
    },
    "id": "uC0sT4IoObvN",
    "outputId": "066bcb66-965b-4ad7-b19d-32a763dc5d59"
   },
   "outputs": [
    {
     "data": {
      "text/plain": [
       "danceability      int32\n",
       "energy          float64\n",
       "loudness        float64\n",
       "speechiness     float64\n",
       "liveness        float64\n",
       "acousticness    float64\n",
       "valence         float64\n",
       "target            int64\n",
       "dtype: object"
      ]
     },
     "execution_count": 23,
     "metadata": {},
     "output_type": "execute_result"
    }
   ],
   "source": [
    "# check for integer datatypes (numpy arrays only work with integers)\n",
    "# In[9]:\n",
    "db3.dtypes"
   ]
  },
  {
   "cell_type": "markdown",
   "metadata": {
    "id": "iQMqcOf8XwPg"
   },
   "source": [
    "## Now This Is The Main Menu\n",
    "* KNN Algorithm\n",
    "* Klasifikasi Menggunakan KNN Classifier"
   ]
  },
  {
   "cell_type": "code",
   "execution_count": 24,
   "metadata": {
    "colab": {
     "base_uri": "https://localhost:8080/"
    },
    "id": "k64qOZdlI_80",
    "outputId": "9a1da076-56a9-4280-db75-fc9dc64e6b7d"
   },
   "outputs": [
    {
     "data": {
      "text/plain": [
       "StandardScaler()"
      ]
     },
     "execution_count": 24,
     "metadata": {},
     "output_type": "execute_result"
    }
   ],
   "source": [
    "# Normalize/Standardize the dataset\n",
    "\n",
    "from sklearn.preprocessing import StandardScaler\n",
    "scaler = StandardScaler()\n",
    "scaler.fit(db3.drop('target', axis=1))"
   ]
  },
  {
   "cell_type": "code",
   "execution_count": 25,
   "metadata": {
    "colab": {
     "base_uri": "https://localhost:8080/"
    },
    "id": "vSypZTvMJROF",
    "outputId": "60c9a283-0d06-463a-80b6-6b5d04c3ed32"
   },
   "outputs": [
    {
     "data": {
      "text/plain": [
       "array([[ 0.        ,  0.27779409,  0.42210082, ..., -0.22215652,\n",
       "        -0.50635448,  0.87679161],\n",
       "       [ 0.        ,  0.57299644,  0.88892804, ..., -0.88073564,\n",
       "        -0.73132814,  1.68545698],\n",
       "       [ 0.        ,  1.83194763,  1.70716954, ...,  0.13065372,\n",
       "        -0.30854199,  1.92958238],\n",
       "       ...,\n",
       "       [ 0.        ,  0.69455035, -0.66371237, ..., -0.45001314,\n",
       "        -0.66384365, -1.74755638],\n",
       "       [ 0.        ,  1.84931247,  0.75540096, ...,  2.31366707,\n",
       "        -0.50635448,  0.89204945],\n",
       "       [ 0.        ,  0.39066558, -0.20257817, ..., -1.02920994,\n",
       "        -0.67221264,  0.63266622]])"
      ]
     },
     "execution_count": 25,
     "metadata": {},
     "output_type": "execute_result"
    }
   ],
   "source": [
    "scaled_features = scaler.transform(db3.drop('target',axis=1))\n",
    "scaled_features"
   ]
  },
  {
   "cell_type": "code",
   "execution_count": 26,
   "metadata": {
    "colab": {
     "base_uri": "https://localhost:8080/",
     "height": 206
    },
    "id": "obx1Y8awJY5y",
    "outputId": "b1892930-7e4c-45b0-f4c5-1cfba53b8ba3"
   },
   "outputs": [
    {
     "data": {
      "text/html": [
       "<div>\n",
       "<style scoped>\n",
       "    .dataframe tbody tr th:only-of-type {\n",
       "        vertical-align: middle;\n",
       "    }\n",
       "\n",
       "    .dataframe tbody tr th {\n",
       "        vertical-align: top;\n",
       "    }\n",
       "\n",
       "    .dataframe thead th {\n",
       "        text-align: right;\n",
       "    }\n",
       "</style>\n",
       "<table border=\"1\" class=\"dataframe\">\n",
       "  <thead>\n",
       "    <tr style=\"text-align: right;\">\n",
       "      <th></th>\n",
       "      <th>danceability</th>\n",
       "      <th>energy</th>\n",
       "      <th>loudness</th>\n",
       "      <th>speechiness</th>\n",
       "      <th>liveness</th>\n",
       "      <th>acousticness</th>\n",
       "      <th>valence</th>\n",
       "    </tr>\n",
       "  </thead>\n",
       "  <tbody>\n",
       "    <tr>\n",
       "      <th>0</th>\n",
       "      <td>0.0</td>\n",
       "      <td>0.277794</td>\n",
       "      <td>0.422101</td>\n",
       "      <td>1.167921</td>\n",
       "      <td>-0.222157</td>\n",
       "      <td>-0.506354</td>\n",
       "      <td>0.876792</td>\n",
       "    </tr>\n",
       "    <tr>\n",
       "      <th>1</th>\n",
       "      <td>0.0</td>\n",
       "      <td>0.572996</td>\n",
       "      <td>0.888928</td>\n",
       "      <td>-0.157647</td>\n",
       "      <td>-0.880736</td>\n",
       "      <td>-0.731328</td>\n",
       "      <td>1.685457</td>\n",
       "    </tr>\n",
       "    <tr>\n",
       "      <th>2</th>\n",
       "      <td>0.0</td>\n",
       "      <td>1.831948</td>\n",
       "      <td>1.707170</td>\n",
       "      <td>-0.060148</td>\n",
       "      <td>0.130654</td>\n",
       "      <td>-0.308542</td>\n",
       "      <td>1.929582</td>\n",
       "    </tr>\n",
       "    <tr>\n",
       "      <th>3</th>\n",
       "      <td>0.0</td>\n",
       "      <td>0.494855</td>\n",
       "      <td>0.670523</td>\n",
       "      <td>-0.439771</td>\n",
       "      <td>1.086181</td>\n",
       "      <td>0.129689</td>\n",
       "      <td>-0.135312</td>\n",
       "    </tr>\n",
       "    <tr>\n",
       "      <th>4</th>\n",
       "      <td>0.0</td>\n",
       "      <td>0.060734</td>\n",
       "      <td>0.801980</td>\n",
       "      <td>-0.692853</td>\n",
       "      <td>-0.435313</td>\n",
       "      <td>-0.739469</td>\n",
       "      <td>-0.720195</td>\n",
       "    </tr>\n",
       "  </tbody>\n",
       "</table>\n",
       "</div>"
      ],
      "text/plain": [
       "   danceability    energy  loudness  speechiness  liveness  acousticness  \\\n",
       "0           0.0  0.277794  0.422101     1.167921 -0.222157     -0.506354   \n",
       "1           0.0  0.572996  0.888928    -0.157647 -0.880736     -0.731328   \n",
       "2           0.0  1.831948  1.707170    -0.060148  0.130654     -0.308542   \n",
       "3           0.0  0.494855  0.670523    -0.439771  1.086181      0.129689   \n",
       "4           0.0  0.060734  0.801980    -0.692853 -0.435313     -0.739469   \n",
       "\n",
       "    valence  \n",
       "0  0.876792  \n",
       "1  1.685457  \n",
       "2  1.929582  \n",
       "3 -0.135312  \n",
       "4 -0.720195  "
      ]
     },
     "execution_count": 26,
     "metadata": {},
     "output_type": "execute_result"
    }
   ],
   "source": [
    "# below is the pandas dataframe with the standardized values\n",
    "gabungan_feat = pd.DataFrame(scaled_features, columns = db3.columns[:-1])\n",
    "gabungan_feat.head()"
   ]
  },
  {
   "cell_type": "code",
   "execution_count": 28,
   "metadata": {
    "id": "FDb2WCKRJome"
   },
   "outputs": [],
   "source": [
    "#  Split dataset into training and testing sets\n",
    "from sklearn.model_selection import train_test_split\n",
    "X = gabungan_feat\n",
    "y = db3['target']\n",
    "\n",
    "X_train, X_test, y_train, y_test = train_test_split(X, y, test_size=0.3, random_state=30, shuffle=True)\n"
   ]
  },
  {
   "cell_type": "code",
   "execution_count": 29,
   "metadata": {
    "colab": {
     "base_uri": "https://localhost:8080/"
    },
    "id": "FColDYYSJopw",
    "outputId": "e06242f9-9b83-42f6-a272-138e52be5b35"
   },
   "outputs": [
    {
     "data": {
      "text/plain": [
       "10.954451150103322"
      ]
     },
     "execution_count": 29,
     "metadata": {},
     "output_type": "execute_result"
    }
   ],
   "source": [
    "# Train model\n",
    "# find k value\n",
    "\n",
    "\n",
    "import math\n",
    "math.sqrt(len(y_test))\n"
   ]
  },
  {
   "cell_type": "code",
   "execution_count": 30,
   "metadata": {
    "colab": {
     "base_uri": "https://localhost:8080/"
    },
    "id": "JZ9p0hauJosC",
    "outputId": "119001aa-0673-41f6-ee0b-8fe9d2499369"
   },
   "outputs": [
    {
     "data": {
      "text/plain": [
       "KNeighborsClassifier(metric='euclidean', n_neighbors=10)"
      ]
     },
     "execution_count": 30,
     "metadata": {},
     "output_type": "execute_result"
    }
   ],
   "source": [
    "from sklearn.neighbors import KNeighborsClassifier\n",
    "knn = KNeighborsClassifier(n_neighbors=10,p=2,metric='euclidean')\n",
    "knn.fit(X_train, y_train)"
   ]
  },
  {
   "cell_type": "code",
   "execution_count": 31,
   "metadata": {
    "colab": {
     "base_uri": "https://localhost:8080/"
    },
    "id": "shp93cGXRSO3",
    "outputId": "86c0152d-ef9d-456e-ab01-fa1cb4eb73cd"
   },
   "outputs": [
    {
     "data": {
      "text/plain": [
       "array([1, 1, 0, 0, 1, 1, 1, 0, 0, 1, 0, 0, 0, 1, 0, 1, 0, 0, 0, 1, 0, 1,\n",
       "       0, 0, 0, 0, 0, 0, 0, 0, 1, 1, 1, 0, 0, 0, 1, 1, 1, 0, 0, 1, 1, 1,\n",
       "       0, 1, 0, 1, 1, 0, 0, 0, 1, 0, 1, 0, 1, 1, 0, 0, 1, 0, 0, 1, 0, 0,\n",
       "       1, 0, 0, 1, 1, 0, 0, 0, 0, 0, 1, 1, 1, 1, 1, 0, 0, 1, 1, 0, 0, 0,\n",
       "       1, 0, 0, 0, 1, 1, 1, 1, 1, 0, 0, 0, 1, 1, 0, 1, 0, 1, 0, 0, 1, 0,\n",
       "       0, 1, 1, 1, 0, 0, 1, 0, 1, 1], dtype=int64)"
      ]
     },
     "execution_count": 31,
     "metadata": {},
     "output_type": "execute_result"
    }
   ],
   "source": [
    "# Make predictions\n",
    "prediction = knn.predict(X_test)\n",
    "prediction\n"
   ]
  },
  {
   "cell_type": "code",
   "execution_count": 32,
   "metadata": {
    "colab": {
     "base_uri": "https://localhost:8080/"
    },
    "id": "plClfLyVRSUP",
    "outputId": "d77553bd-07f1-42f5-c98f-bf6ac8e8bb06"
   },
   "outputs": [
    {
     "name": "stdout",
     "output_type": "stream",
     "text": [
      "              precision    recall  f1-score   support\n",
      "\n",
      "           0       0.71      0.73      0.72        63\n",
      "           1       0.69      0.67      0.68        57\n",
      "\n",
      "    accuracy                           0.70       120\n",
      "   macro avg       0.70      0.70      0.70       120\n",
      "weighted avg       0.70      0.70      0.70       120\n",
      "\n"
     ]
    }
   ],
   "source": [
    "# Evaluate Predictions using the Classification Report\n",
    "\n",
    "from sklearn.metrics import classification_report, confusion_matrix\n",
    "print(classification_report(y_test, prediction))"
   ]
  },
  {
   "cell_type": "code",
   "execution_count": 33,
   "metadata": {
    "id": "_eCFNOqKRSXO"
   },
   "outputs": [],
   "source": [
    "#  Evaluate alternative K-values for better predictions\n",
    "error_rate = []\n",
    "for i in range(1,40):\n",
    "    \n",
    "    knn = KNeighborsClassifier(n_neighbors=i)\n",
    "    knn.fit(X_train, y_train)\n",
    "    prediction_i = knn.predict(X_test)\n",
    "    error_rate.append(np.mean(prediction_i != y_test))\n"
   ]
  },
  {
   "cell_type": "code",
   "execution_count": 34,
   "metadata": {
    "colab": {
     "base_uri": "https://localhost:8080/",
     "height": 313
    },
    "id": "yYh9zi_uRScY",
    "outputId": "df1fc67a-c99e-432f-ad1f-f689097b45a7"
   },
   "outputs": [
    {
     "data": {
      "text/plain": [
       "Text(0, 0.5, 'error rate')"
      ]
     },
     "execution_count": 34,
     "metadata": {},
     "output_type": "execute_result"
    },
    {
     "data": {
      "image/png": "[encoded data removed]",
      "text/plain": [
       "<Figure size 432x288 with 1 Axes>"
      ]
     },
     "metadata": {
      "needs_background": "light"
     },
     "output_type": "display_data"
    }
   ],
   "source": [
    "# Plot error rate\n",
    "plt.plot(error_rate, color='darkblue')\n",
    "plt.title('error rate vs. k values')\n",
    "plt.xlabel('k values')\n",
    "plt.ylabel('error rate')"
   ]
  },
  {
   "cell_type": "code",
   "execution_count": 35,
   "metadata": {
    "colab": {
     "base_uri": "https://localhost:8080/"
    },
    "id": "NOzeaFEERfvx",
    "outputId": "93764e4e-32cd-4e3e-b184-112fefda838a"
   },
   "outputs": [
    {
     "data": {
      "text/plain": [
       "array([0, 1, 1, 0, 1, 1, 0, 0, 0, 1, 0, 0, 0, 1, 0, 0, 0, 0, 0, 1, 0, 0,\n",
       "       0, 0, 0, 0, 1, 0, 0, 0, 1, 0, 0, 0, 1, 1, 1, 1, 1, 1, 0, 1, 1, 1,\n",
       "       0, 1, 1, 1, 1, 0, 1, 0, 0, 0, 1, 1, 0, 0, 0, 0, 0, 1, 0, 1, 0, 1,\n",
       "       1, 0, 1, 1, 1, 0, 0, 0, 0, 0, 1, 0, 1, 1, 0, 0, 1, 1, 1, 0, 0, 0,\n",
       "       1, 0, 0, 0, 0, 1, 1, 0, 1, 0, 0, 0, 1, 1, 0, 0, 0, 1, 0, 0, 1, 0,\n",
       "       0, 1, 1, 1, 0, 0, 0, 0, 1, 1], dtype=int64)"
      ]
     },
     "execution_count": 35,
     "metadata": {},
     "output_type": "execute_result"
    }
   ],
   "source": [
    "# Adjust K value according to the graph (lowest error rate)\n",
    "knn = KNeighborsClassifier(n_neighbors=6)\n",
    "knn.fit(X_train, y_train)\n",
    "prediction= knn.predict(X_test)\n",
    "prediction"
   ]
  },
  {
   "cell_type": "code",
   "execution_count": 36,
   "metadata": {
    "colab": {
     "base_uri": "https://localhost:8080/"
    },
    "id": "rpMyrqDiRjBZ",
    "outputId": "a2a39052-3ebd-46d5-836b-0515bcb6cdb0"
   },
   "outputs": [
    {
     "name": "stdout",
     "output_type": "stream",
     "text": [
      "              precision    recall  f1-score   support\n",
      "\n",
      "           0       0.68      0.75      0.71        63\n",
      "           1       0.69      0.61      0.65        57\n",
      "\n",
      "    accuracy                           0.68       120\n",
      "   macro avg       0.68      0.68      0.68       120\n",
      "weighted avg       0.68      0.68      0.68       120\n",
      "\n"
     ]
    }
   ],
   "source": [
    "print(classification_report(y_test, prediction))"
   ]
  }
 ],
 "metadata": {
  "colab": {
   "collapsed_sections": [
    "Mwxmj_bOAm8z"
   ],
   "name": "Spotify Classifying Project.ipynb",
   "provenance": []
  },
  "kernelspec": {
   "display_name": "Python 3",
   "language": "python",
   "name": "python3"
  },
  "language_info": {
   "codemirror_mode": {
    "name": "ipython",
    "version": 3
   },
   "file_extension": ".py",
   "mimetype": "text/x-python",
   "name": "python",
   "nbconvert_exporter": "python",
   "pygments_lexer": "ipython3",
   "version": "3.9.1"
  }
 },
 "nbformat": 4,
 "nbformat_minor": 1
}
